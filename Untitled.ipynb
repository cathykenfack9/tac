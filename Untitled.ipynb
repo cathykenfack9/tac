{
 "cells": [
  {
   "cell_type": "code",
   "execution_count": 1,
   "id": "07e4b0b0-bea5-457f-b067-3e60d089412e",
   "metadata": {},
   "outputs": [
    {
     "data": {
      "text/plain": [
       "27.5"
      ]
     },
     "execution_count": 1,
     "metadata": {},
     "output_type": "execute_result"
    }
   ],
   "source": [
    "5.5+22"
   ]
  },
  {
   "cell_type": "code",
   "execution_count": null,
   "id": "c8425e40-e836-4f7c-953e-8f854bde2c69",
   "metadata": {},
   "outputs": [],
   "source": []
  }
 ],
 "metadata": {
  "kernelspec": {
   "display_name": "Python 3 (ipykernel)",
   "language": "python",
   "name": "python3"
  },
  "language_info": {
   "codemirror_mode": {
    "name": "ipython",
    "version": 3
   },
   "file_extension": ".py",
   "mimetype": "text/x-python",
   "name": "python",
   "nbconvert_exporter": "python",
   "pygments_lexer": "ipython3",
   "version": "3.11.6"
  }
 },
 "nbformat": 4,
 "nbformat_minor": 5
}
