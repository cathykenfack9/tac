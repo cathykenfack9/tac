{
 "cells": [
  {
   "cell_type": "markdown",
   "metadata": {},
   "source": [
    "# Conversion de fichiers PDF en fichiers TXT"
   ]
  },
  {
   "cell_type": "markdown",
   "metadata": {},
   "source": [
    "## Imports\n",
    "\n",
    "Pour utiliser ce notebook, vous devez préalablement récupérer les fichiers PDFs sur l'UV et les déposer dans le dossier `./data/pdf`\n"
   ]
  },
  {
   "cell_type": "code",
   "execution_count": 1,
   "metadata": {},
   "outputs": [],
   "source": [
    "import os\n",
    "import textract"
   ]
  },
  {
   "cell_type": "markdown",
   "metadata": {
    "tags": []
   },
   "source": [
    "## Lister les fichiers dans `data/pdf`"
   ]
  },
  {
   "cell_type": "code",
   "execution_count": 2,
   "metadata": {},
   "outputs": [
    {
     "data": {
      "text/plain": [
       "['KB_JB230_1892-08-07_01-0003.pdf',\n",
       " 'KB_JB230_1903-10-16_01-0002.pdf',\n",
       " 'KB_JB230_1913-07-05_01-0001.pdf',\n",
       " 'KB_JB258_1884-09-03_01-0003.pdf',\n",
       " 'KB_JB258_1894-12-09_01-0003.pdf',\n",
       " 'KB_JB258_1906-01-09_01-0002.pdf',\n",
       " 'KB_JB421_1899-05-15_01-00003.pdf',\n",
       " 'KB_JB421_1926-10-29_01-00002.pdf',\n",
       " 'KB_JB421_1950-04-15_01-00004.pdf',\n",
       " 'KB_JB427_1920-01-10_01-00004.pdf']"
      ]
     },
     "execution_count": 2,
     "metadata": {},
     "output_type": "execute_result"
    }
   ],
   "source": [
    "pdf_path = '../data/pdf'\n",
    "\n",
    "pdfs = []\n",
    "for f in os.listdir(pdf_path):\n",
    "    if os.path.isfile(os.path.join(pdf_path, f)):\n",
    "        pdfs.append(f)\n",
    "pdfs[:10]\n",
    "len (pdfs) // pour compter le nombre de fichiers "
   ]
  },
  {
   "cell_type": "markdown",
   "metadata": {},
   "source": [
    "## Créer un répertoire TXT s'il n'existe pas encore"
   ]
  },
  {
   "cell_type": "code",
   "execution_count": 3,
   "metadata": {},
   "outputs": [],
   "source": [
    "txt_path = '../data/txt'\n",
    "if not os.path.exists(txt_path):\n",
    "    os.mkdir(txt_path)"
   ]
  },
  {
   "cell_type": "markdown",
   "metadata": {},
   "source": [
    "## Lister les fichiers dans `data/txt`"
   ]
  },
  {
   "cell_type": "code",
   "execution_count": 4,
   "metadata": {},
   "outputs": [
    {
     "data": {
      "text/plain": [
       "[]"
      ]
     },
     "execution_count": 4,
     "metadata": {},
     "output_type": "execute_result"
    }
   ],
   "source": [
    "txts = []\n",
    "for f in os.listdir(txt_path):\n",
    "    if os.path.isfile(os.path.join(txt_path, f)):\n",
    "        txts.append(f)\n",
    "txts[:10]"
   ]
  },
  {
   "cell_type": "code",
   "execution_count": 5,
   "metadata": {},
   "outputs": [
    {
     "name": "stdout",
     "output_type": "stream",
     "text": [
      "['KB_JB230_1892-08-07_01-0003.pdf', 'KB_JB230_1903-10-16_01-0002.pdf', 'KB_JB230_1913-07-05_01-0001.pdf', 'KB_JB258_1884-09-03_01-0003.pdf', 'KB_JB258_1894-12-09_01-0003.pdf', 'KB_JB258_1906-01-09_01-0002.pdf', 'KB_JB421_1899-05-15_01-00003.pdf', 'KB_JB421_1926-10-29_01-00002.pdf', 'KB_JB421_1950-04-15_01-00004.pdf', 'KB_JB427_1920-01-10_01-00004.pdf', 'KB_JB427_1933-01-04_01-00003.pdf', 'KB_JB427_1949-07-18_01-00008.pdf', 'KB_JB449_1846-05-30_01-00002.pdf', 'KB_JB449_1912-01-04_01-00003.pdf', 'KB_JB449_1947-08-29_01-00003.pdf', 'KB_JB494_1853-10-30_01-0002.pdf', 'KB_JB494_1922-09-28_01-0005.pdf', 'KB_JB494_1939-12-08_01-0004.pdf', 'KB_JB555_1836-02-08_01-00002.pdf', 'KB_JB555_1899-01-19_01-00003.pdf', 'KB_JB555_1940-03-01_01-00004.pdf', 'KB_JB567_1857-02-02_01-00003.pdf', 'KB_JB567_1892-01-03_01-00005.pdf', 'KB_JB567_1924-08-30_01-00003.pdf', 'KB_JB572_1850-03-15_01-00003.pdf', 'KB_JB572_1927-07-20_01-00005.pdf', 'KB_JB572_1950-06-07_01-00004.pdf', 'KB_JB638_1860-05-21_01-00002.pdf', 'KB_JB638_1902-12-20_01-00002.pdf', 'KB_JB638_1946-07-18_01-00003.pdf', 'KB_JB685_1894-05-14_01-0003.pdf', 'KB_JB685_1903-01-18_01-0002.pdf', 'KB_JB685_1913-06-07_01-0006.pdf', 'KB_JB729_1895-10-08_01-00003.pdf', 'KB_JB729_1927-11-15_01-00004.pdf', 'KB_JB729_1939-10-31_01-00006.pdf', 'KB_JB773_1918-11-30_01-00002.pdf', 'KB_JB773_1933-10-07_01-00007.pdf', 'KB_JB773_1950-07-22_01-00010.pdf', 'KB_JB835_1911-04-24_01-00004.pdf', 'KB_JB835_1930-04-08_01-00006.pdf', 'KB_JB835_1949-09-18_01-00004.pdf', 'KB_JB837_1886-12-28_01-00002.pdf', 'KB_JB837_1925-01-01_01-00003.pdf', 'KB_JB837_1950-12-01_01-00007.pdf', 'KB_JB838_1887-12-28_01-00003.pdf', 'KB_JB838_1911-08-03_01-00006.pdf', 'KB_JB838_1943-09-04_01-00002.pdf', 'KB_JB92_1860-02-09_01-00003.pdf', 'KB_JB92_1873-02-06_01-00002.pdf', 'KB_JB92_1885-09-29_01-00002.pdf']\n"
     ]
    }
   ],
   "source": [
    "#  Lister les fichiers pdf qui n'ont pas encore été convertis en txt\n",
    "not_converted_pdfs = []\n",
    "for pdf in pdfs:\n",
    "    file_name = os.path.splitext(pdf)[0]\n",
    "    if file_name + \".txt\" not in txts:\n",
    "        not_converted_pdfs.append(pdf)\n",
    "len(not_converted_pdfs)\n",
    "print(not_converted_pdfs)"
   ]
  },
  {
   "cell_type": "markdown",
   "metadata": {},
   "source": [
    "## Convertir les fichiers PDFs en TXT"
   ]
  },
  {
   "cell_type": "code",
   "execution_count": 8,
   "metadata": {
    "tags": []
   },
   "outputs": [
    {
     "name": "stdout",
     "output_type": "stream",
     "text": [
      "KB_JB230_1892-08-07_01-0003.pdf\n"
     ]
    },
    {
     "ename": "ShellError",
     "evalue": "The command `pdftotext ../data/pdf\\KB_JB230_1892-08-07_01-0003.pdf -` failed with exit code 127\n------------- stdout -------------\n------------- stderr -------------\n",
     "output_type": "error",
     "traceback": [
      "\u001b[1;31m---------------------------------------------------------------------------\u001b[0m",
      "\u001b[1;31mFileNotFoundError\u001b[0m                         Traceback (most recent call last)",
      "File \u001b[1;32mc:\\Users\\CATHY METANGO\\tac\\tac_venv\\Lib\\site-packages\\textract\\parsers\\utils.py:87\u001b[0m, in \u001b[0;36mShellParser.run\u001b[1;34m(self, args)\u001b[0m\n\u001b[0;32m     86\u001b[0m \u001b[39mtry\u001b[39;00m:\n\u001b[1;32m---> 87\u001b[0m     pipe \u001b[39m=\u001b[39m subprocess\u001b[39m.\u001b[39;49mPopen(\n\u001b[0;32m     88\u001b[0m         args,\n\u001b[0;32m     89\u001b[0m         stdout\u001b[39m=\u001b[39;49msubprocess\u001b[39m.\u001b[39;49mPIPE, stderr\u001b[39m=\u001b[39;49msubprocess\u001b[39m.\u001b[39;49mPIPE,\n\u001b[0;32m     90\u001b[0m     )\n\u001b[0;32m     91\u001b[0m \u001b[39mexcept\u001b[39;00m \u001b[39mOSError\u001b[39;00m \u001b[39mas\u001b[39;00m e:\n",
      "File \u001b[1;32m~\\AppData\\Local\\Programs\\Python\\Python311\\Lib\\subprocess.py:1026\u001b[0m, in \u001b[0;36mPopen.__init__\u001b[1;34m(self, args, bufsize, executable, stdin, stdout, stderr, preexec_fn, close_fds, shell, cwd, env, universal_newlines, startupinfo, creationflags, restore_signals, start_new_session, pass_fds, user, group, extra_groups, encoding, errors, text, umask, pipesize, process_group)\u001b[0m\n\u001b[0;32m   1023\u001b[0m             \u001b[39mself\u001b[39m\u001b[39m.\u001b[39mstderr \u001b[39m=\u001b[39m io\u001b[39m.\u001b[39mTextIOWrapper(\u001b[39mself\u001b[39m\u001b[39m.\u001b[39mstderr,\n\u001b[0;32m   1024\u001b[0m                     encoding\u001b[39m=\u001b[39mencoding, errors\u001b[39m=\u001b[39merrors)\n\u001b[1;32m-> 1026\u001b[0m     \u001b[39mself\u001b[39;49m\u001b[39m.\u001b[39;49m_execute_child(args, executable, preexec_fn, close_fds,\n\u001b[0;32m   1027\u001b[0m                         pass_fds, cwd, env,\n\u001b[0;32m   1028\u001b[0m                         startupinfo, creationflags, shell,\n\u001b[0;32m   1029\u001b[0m                         p2cread, p2cwrite,\n\u001b[0;32m   1030\u001b[0m                         c2pread, c2pwrite,\n\u001b[0;32m   1031\u001b[0m                         errread, errwrite,\n\u001b[0;32m   1032\u001b[0m                         restore_signals,\n\u001b[0;32m   1033\u001b[0m                         gid, gids, uid, umask,\n\u001b[0;32m   1034\u001b[0m                         start_new_session, process_group)\n\u001b[0;32m   1035\u001b[0m \u001b[39mexcept\u001b[39;00m:\n\u001b[0;32m   1036\u001b[0m     \u001b[39m# Cleanup if the child failed starting.\u001b[39;00m\n",
      "File \u001b[1;32m~\\AppData\\Local\\Programs\\Python\\Python311\\Lib\\subprocess.py:1538\u001b[0m, in \u001b[0;36mPopen._execute_child\u001b[1;34m(self, args, executable, preexec_fn, close_fds, pass_fds, cwd, env, startupinfo, creationflags, shell, p2cread, p2cwrite, c2pread, c2pwrite, errread, errwrite, unused_restore_signals, unused_gid, unused_gids, unused_uid, unused_umask, unused_start_new_session, unused_process_group)\u001b[0m\n\u001b[0;32m   1537\u001b[0m \u001b[39mtry\u001b[39;00m:\n\u001b[1;32m-> 1538\u001b[0m     hp, ht, pid, tid \u001b[39m=\u001b[39m _winapi\u001b[39m.\u001b[39mCreateProcess(executable, args,\n\u001b[0;32m   1539\u001b[0m                              \u001b[39m# no special security\u001b[39;00m\n\u001b[0;32m   1540\u001b[0m                              \u001b[39mNone\u001b[39;00m, \u001b[39mNone\u001b[39;00m,\n\u001b[0;32m   1541\u001b[0m                              \u001b[39mint\u001b[39m(\u001b[39mnot\u001b[39;00m close_fds),\n\u001b[0;32m   1542\u001b[0m                              creationflags,\n\u001b[0;32m   1543\u001b[0m                              env,\n\u001b[0;32m   1544\u001b[0m                              cwd,\n\u001b[0;32m   1545\u001b[0m                              startupinfo)\n\u001b[0;32m   1546\u001b[0m \u001b[39mfinally\u001b[39;00m:\n\u001b[0;32m   1547\u001b[0m     \u001b[39m# Child is launched. Close the parent's copy of those pipe\u001b[39;00m\n\u001b[0;32m   1548\u001b[0m     \u001b[39m# handles that only the child should have open.  You need\u001b[39;00m\n\u001b[1;32m   (...)\u001b[0m\n\u001b[0;32m   1551\u001b[0m     \u001b[39m# pipe will not close when the child process exits and the\u001b[39;00m\n\u001b[0;32m   1552\u001b[0m     \u001b[39m# ReadFile will hang.\u001b[39;00m\n",
      "\u001b[1;31mFileNotFoundError\u001b[0m: [WinError 2] Le fichier spécifié est introuvable",
      "\nDuring handling of the above exception, another exception occurred:\n",
      "\u001b[1;31mShellError\u001b[0m                                Traceback (most recent call last)",
      "\u001b[1;32mc:\\Users\\CATHY METANGO\\tac\\module2\\s1_convert.ipynb Cell 12\u001b[0m line \u001b[0;36m3\n\u001b[0;32m      <a href='vscode-notebook-cell:/c%3A/Users/CATHY%20METANGO/tac/module2/s1_convert.ipynb#X14sZmlsZQ%3D%3D?line=0'>1</a>\u001b[0m \u001b[39mfor\u001b[39;00m pdf \u001b[39min\u001b[39;00m not_converted_pdfs:\n\u001b[0;32m      <a href='vscode-notebook-cell:/c%3A/Users/CATHY%20METANGO/tac/module2/s1_convert.ipynb#X14sZmlsZQ%3D%3D?line=1'>2</a>\u001b[0m     \u001b[39mprint\u001b[39m(pdf)\n\u001b[1;32m----> <a href='vscode-notebook-cell:/c%3A/Users/CATHY%20METANGO/tac/module2/s1_convert.ipynb#X14sZmlsZQ%3D%3D?line=2'>3</a>\u001b[0m     text \u001b[39m=\u001b[39m textract\u001b[39m.\u001b[39;49mprocess(os\u001b[39m.\u001b[39;49mpath\u001b[39m.\u001b[39;49mjoin(pdf_path, pdf))\n\u001b[0;32m      <a href='vscode-notebook-cell:/c%3A/Users/CATHY%20METANGO/tac/module2/s1_convert.ipynb#X14sZmlsZQ%3D%3D?line=3'>4</a>\u001b[0m     \u001b[39mwith\u001b[39;00m \u001b[39mopen\u001b[39m(os\u001b[39m.\u001b[39mpath\u001b[39m.\u001b[39mjoin(txt_path, \u001b[39mf\u001b[39m\u001b[39m'\u001b[39m\u001b[39m{\u001b[39;00mos\u001b[39m.\u001b[39mpath\u001b[39m.\u001b[39msplitext(pdf)[\u001b[39m0\u001b[39m]\u001b[39m}\u001b[39;00m\u001b[39m.txt\u001b[39m\u001b[39m'\u001b[39m), \u001b[39m'\u001b[39m\u001b[39mwb\u001b[39m\u001b[39m'\u001b[39m) \u001b[39mas\u001b[39;00m output_file:\n\u001b[0;32m      <a href='vscode-notebook-cell:/c%3A/Users/CATHY%20METANGO/tac/module2/s1_convert.ipynb#X14sZmlsZQ%3D%3D?line=4'>5</a>\u001b[0m         output_file\u001b[39m.\u001b[39mwrite(text)\n",
      "File \u001b[1;32mc:\\Users\\CATHY METANGO\\tac\\tac_venv\\Lib\\site-packages\\textract\\parsers\\__init__.py:79\u001b[0m, in \u001b[0;36mprocess\u001b[1;34m(filename, input_encoding, output_encoding, extension, **kwargs)\u001b[0m\n\u001b[0;32m     76\u001b[0m \u001b[39m# do the extraction\u001b[39;00m\n\u001b[0;32m     78\u001b[0m parser \u001b[39m=\u001b[39m filetype_module\u001b[39m.\u001b[39mParser()\n\u001b[1;32m---> 79\u001b[0m \u001b[39mreturn\u001b[39;00m parser\u001b[39m.\u001b[39;49mprocess(filename, input_encoding, output_encoding, \u001b[39m*\u001b[39;49m\u001b[39m*\u001b[39;49mkwargs)\n",
      "File \u001b[1;32mc:\\Users\\CATHY METANGO\\tac\\tac_venv\\Lib\\site-packages\\textract\\parsers\\utils.py:46\u001b[0m, in \u001b[0;36mBaseParser.process\u001b[1;34m(self, filename, input_encoding, output_encoding, **kwargs)\u001b[0m\n\u001b[0;32m     36\u001b[0m \u001b[39m\u001b[39m\u001b[39m\"\"\"Process ``filename`` and encode byte-string with ``encoding``. This\u001b[39;00m\n\u001b[0;32m     37\u001b[0m \u001b[39mmethod is called by :func:`textract.parsers.process` and wraps\u001b[39;00m\n\u001b[0;32m     38\u001b[0m \u001b[39mthe :meth:`.BaseParser.extract` method in `a delicious unicode\u001b[39;00m\n\u001b[0;32m     39\u001b[0m \u001b[39msandwich <http://nedbatchelder.com/text/unipain.html>`_.\u001b[39;00m\n\u001b[0;32m     40\u001b[0m \n\u001b[0;32m     41\u001b[0m \u001b[39m\"\"\"\u001b[39;00m\n\u001b[0;32m     42\u001b[0m \u001b[39m# make a \"unicode sandwich\" to handle dealing with unknown\u001b[39;00m\n\u001b[0;32m     43\u001b[0m \u001b[39m# input byte strings and converting them to a predictable\u001b[39;00m\n\u001b[0;32m     44\u001b[0m \u001b[39m# output encoding\u001b[39;00m\n\u001b[0;32m     45\u001b[0m \u001b[39m# http://nedbatchelder.com/text/unipain/unipain.html#35\u001b[39;00m\n\u001b[1;32m---> 46\u001b[0m byte_string \u001b[39m=\u001b[39m \u001b[39mself\u001b[39;49m\u001b[39m.\u001b[39;49mextract(filename, \u001b[39m*\u001b[39;49m\u001b[39m*\u001b[39;49mkwargs)\n\u001b[0;32m     47\u001b[0m unicode_string \u001b[39m=\u001b[39m \u001b[39mself\u001b[39m\u001b[39m.\u001b[39mdecode(byte_string, input_encoding)\n\u001b[0;32m     48\u001b[0m \u001b[39mreturn\u001b[39;00m \u001b[39mself\u001b[39m\u001b[39m.\u001b[39mencode(unicode_string, output_encoding)\n",
      "File \u001b[1;32mc:\\Users\\CATHY METANGO\\tac\\tac_venv\\Lib\\site-packages\\textract\\parsers\\pdf_parser.py:29\u001b[0m, in \u001b[0;36mParser.extract\u001b[1;34m(self, filename, method, **kwargs)\u001b[0m\n\u001b[0;32m     27\u001b[0m             \u001b[39mreturn\u001b[39;00m \u001b[39mself\u001b[39m\u001b[39m.\u001b[39mextract_pdfminer(filename, \u001b[39m*\u001b[39m\u001b[39m*\u001b[39mkwargs)\n\u001b[0;32m     28\u001b[0m         \u001b[39melse\u001b[39;00m:\n\u001b[1;32m---> 29\u001b[0m             \u001b[39mraise\u001b[39;00m ex\n\u001b[0;32m     31\u001b[0m \u001b[39melif\u001b[39;00m method \u001b[39m==\u001b[39m \u001b[39m'\u001b[39m\u001b[39mpdfminer\u001b[39m\u001b[39m'\u001b[39m:\n\u001b[0;32m     32\u001b[0m     \u001b[39mreturn\u001b[39;00m \u001b[39mself\u001b[39m\u001b[39m.\u001b[39mextract_pdfminer(filename, \u001b[39m*\u001b[39m\u001b[39m*\u001b[39mkwargs)\n",
      "File \u001b[1;32mc:\\Users\\CATHY METANGO\\tac\\tac_venv\\Lib\\site-packages\\textract\\parsers\\pdf_parser.py:21\u001b[0m, in \u001b[0;36mParser.extract\u001b[1;34m(self, filename, method, **kwargs)\u001b[0m\n\u001b[0;32m     19\u001b[0m \u001b[39mif\u001b[39;00m method \u001b[39m==\u001b[39m \u001b[39m'\u001b[39m\u001b[39m'\u001b[39m \u001b[39mor\u001b[39;00m method \u001b[39m==\u001b[39m \u001b[39m'\u001b[39m\u001b[39mpdftotext\u001b[39m\u001b[39m'\u001b[39m:\n\u001b[0;32m     20\u001b[0m     \u001b[39mtry\u001b[39;00m:\n\u001b[1;32m---> 21\u001b[0m         \u001b[39mreturn\u001b[39;00m \u001b[39mself\u001b[39;49m\u001b[39m.\u001b[39;49mextract_pdftotext(filename, \u001b[39m*\u001b[39;49m\u001b[39m*\u001b[39;49mkwargs)\n\u001b[0;32m     22\u001b[0m     \u001b[39mexcept\u001b[39;00m ShellError \u001b[39mas\u001b[39;00m ex:\n\u001b[0;32m     23\u001b[0m         \u001b[39m# If pdftotext isn't installed and the pdftotext method\u001b[39;00m\n\u001b[0;32m     24\u001b[0m         \u001b[39m# wasn't specified, then gracefully fallback to using\u001b[39;00m\n\u001b[0;32m     25\u001b[0m         \u001b[39m# pdfminer instead.\u001b[39;00m\n\u001b[0;32m     26\u001b[0m         \u001b[39mif\u001b[39;00m method \u001b[39m==\u001b[39m \u001b[39m'\u001b[39m\u001b[39m'\u001b[39m \u001b[39mand\u001b[39;00m ex\u001b[39m.\u001b[39mis_not_installed():\n",
      "File \u001b[1;32mc:\\Users\\CATHY METANGO\\tac\\tac_venv\\Lib\\site-packages\\textract\\parsers\\pdf_parser.py:44\u001b[0m, in \u001b[0;36mParser.extract_pdftotext\u001b[1;34m(self, filename, **kwargs)\u001b[0m\n\u001b[0;32m     42\u001b[0m \u001b[39melse\u001b[39;00m:\n\u001b[0;32m     43\u001b[0m     args \u001b[39m=\u001b[39m [\u001b[39m'\u001b[39m\u001b[39mpdftotext\u001b[39m\u001b[39m'\u001b[39m, filename, \u001b[39m'\u001b[39m\u001b[39m-\u001b[39m\u001b[39m'\u001b[39m]\n\u001b[1;32m---> 44\u001b[0m stdout, _ \u001b[39m=\u001b[39m \u001b[39mself\u001b[39;49m\u001b[39m.\u001b[39;49mrun(args)\n\u001b[0;32m     45\u001b[0m \u001b[39mreturn\u001b[39;00m stdout\n",
      "File \u001b[1;32mc:\\Users\\CATHY METANGO\\tac\\tac_venv\\Lib\\site-packages\\textract\\parsers\\utils.py:95\u001b[0m, in \u001b[0;36mShellParser.run\u001b[1;34m(self, args)\u001b[0m\n\u001b[0;32m     91\u001b[0m \u001b[39mexcept\u001b[39;00m \u001b[39mOSError\u001b[39;00m \u001b[39mas\u001b[39;00m e:\n\u001b[0;32m     92\u001b[0m     \u001b[39mif\u001b[39;00m e\u001b[39m.\u001b[39merrno \u001b[39m==\u001b[39m errno\u001b[39m.\u001b[39mENOENT:\n\u001b[0;32m     93\u001b[0m         \u001b[39m# File not found.\u001b[39;00m\n\u001b[0;32m     94\u001b[0m         \u001b[39m# This is equivalent to getting exitcode 127 from sh\u001b[39;00m\n\u001b[1;32m---> 95\u001b[0m         \u001b[39mraise\u001b[39;00m exceptions\u001b[39m.\u001b[39mShellError(\n\u001b[0;32m     96\u001b[0m             \u001b[39m'\u001b[39m\u001b[39m \u001b[39m\u001b[39m'\u001b[39m\u001b[39m.\u001b[39mjoin(args), \u001b[39m127\u001b[39m, \u001b[39m'\u001b[39m\u001b[39m'\u001b[39m, \u001b[39m'\u001b[39m\u001b[39m'\u001b[39m,\n\u001b[0;32m     97\u001b[0m         )\n\u001b[0;32m     98\u001b[0m     \u001b[39melse\u001b[39;00m: \u001b[39mraise\u001b[39;00m \u001b[39m#Reraise the last exception unmodified\u001b[39;00m\n\u001b[0;32m    100\u001b[0m \u001b[39m# pipe.wait() ends up hanging on large files. using\u001b[39;00m\n\u001b[0;32m    101\u001b[0m \u001b[39m# pipe.communicate appears to avoid this issue\u001b[39;00m\n",
      "\u001b[1;31mShellError\u001b[0m: The command `pdftotext ../data/pdf\\KB_JB230_1892-08-07_01-0003.pdf -` failed with exit code 127\n------------- stdout -------------\n------------- stderr -------------\n"
     ]
    }
   ],
   "source": [
    "for pdf in not_converted_pdfs:\n",
    "    print(pdf)\n",
    "    try:\n",
    "        text = textract.process(os.path.join(pdf_path, pdf))\n",
    "        with open(os.path.join(txt_path, f'{os.path.splitext(pdf)[0]}.txt'), 'wb') as output_file:\n",
    "            output_file.write(text)\n",
    "    except:\n",
    "        print(\"Error with following file:\", pdf)"
   ]
  },
  {
   "cell_type": "markdown",
   "metadata": {},
   "source": [
    "## Créer un grand fichier 'corpus': commande bash\n",
    "\n",
    "Avant d'exécuter le code qui suit, vous pouvez préalablement récupérer l'échantillon complet au format `.txt` sur l'UV et les déposer dans le dossier `./data/txt`\n",
    "\n",
    "- `cat` permet d'imprimer le contenu de fichiers textes\n",
    "- Un pattern (ici `../*.txt`) permet d'appliquer la commande sur tous les fichiers qui matchent\n",
    "- `>` permet de rediriger le résultat de la commande précédente dans un fichier\n",
    "\n",
    "Pour en savoir plus sur les flux de redirections :\n",
    "https://openclassrooms.com/fr/courses/43538-reprenez-le-controle-a-laide-de-linux/40444-les-flux-de-redirection"
   ]
  },
  {
   "cell_type": "code",
   "execution_count": null,
   "metadata": {
    "tags": []
   },
   "outputs": [],
   "source": [
    "!cat ../data/txt/*.txt > ../data/all.txt"
   ]
  },
  {
   "cell_type": "markdown",
   "metadata": {},
   "source": [
    "Pour les utilisateurs Windows, si la commande `cat` ne fonctionne pas, vous pouvez également réaliser l'opération directement en Python:"
   ]
  },
  {
   "cell_type": "code",
   "execution_count": null,
   "metadata": {},
   "outputs": [],
   "source": [
    "with open(\"../data/all.txt\", \"w\", encoding=\"utf-8\") as output_file:\n",
    "    for file in os.listdir(txt_path):\n",
    "        if file.endswith(\".txt\"):\n",
    "            with open(os.path.join(txt_path, file), \"r\", encoding=\"utf-8\") as f:\n",
    "                output_file.write(f.read())\n"
   ]
  },
  {
   "cell_type": "markdown",
   "metadata": {},
   "source": [
    "## Compter le nombre de mots dans l'ensemble du corpus"
   ]
  },
  {
   "cell_type": "code",
   "execution_count": null,
   "metadata": {
    "tags": []
   },
   "outputs": [],
   "source": [
    "!wc ../data/all.txt\n"
   ]
  },
  {
   "cell_type": "markdown",
   "metadata": {},
   "source": [
    "On obtient ici, dans l'ordre, le nombre de lignes, de mots, d'octets.\n",
    "\n",
    "Pour en savoir plus sur la commande wc: https://fr.wikipedia.org/wiki/Wc_(Unix)\n",
    "\n",
    "**Attention:** la commande `wc` ne fonctionne pas toujours sur Windows. Ne vous inquiétez pas, ce n'est pas crucial pour la suite du cours."
   ]
  }
 ],
 "metadata": {
  "kernelspec": {
   "display_name": "Python 3.10.5 ('tac_venv': venv)",
   "language": "python",
   "name": "python3"
  },
  "language_info": {
   "codemirror_mode": {
    "name": "ipython",
    "version": 3
   },
   "file_extension": ".py",
   "mimetype": "text/x-python",
   "name": "python",
   "nbconvert_exporter": "python",
   "pygments_lexer": "ipython3",
   "version": "3.11.6"
  },
  "vscode": {
   "interpreter": {
    "hash": "b1932ab1d169b4769d1550e799423b6477588e745f266d79d9004c136c81607e"
   }
  }
 },
 "nbformat": 4,
 "nbformat_minor": 4
}
