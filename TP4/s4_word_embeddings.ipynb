{
 "cells": [
  {
   "cell_type": "markdown",
   "metadata": {},
   "source": [
    "# Word Embeddings : le modèle Word2Vec"
   ]
  },
  {
   "cell_type": "markdown",
   "metadata": {},
   "source": [
    "## Imports"
   ]
  },
  {
   "cell_type": "code",
   "execution_count": 1,
   "metadata": {},
   "outputs": [],
   "source": [
    "import sys\n",
    "\n",
    "from gensim.models.phrases import Phrases, Phraser\n",
    "from gensim.models import Word2Vec\n",
    "\n",
    "import nltk\n",
    "from nltk.tokenize import wordpunct_tokenize\n",
    "from unidecode import unidecode"
   ]
  },
  {
   "cell_type": "markdown",
   "metadata": {},
   "source": [
    "## Chargement et traitement des phrases du corpus"
   ]
  },
  {
   "cell_type": "markdown",
   "metadata": {},
   "source": [
    "### Création d'un objet qui *streame* les lignes d'un fichier pour économiser de la RAM"
   ]
  },
  {
   "cell_type": "code",
   "execution_count": 2,
   "metadata": {},
   "outputs": [],
   "source": [
    "class MySentences(object):\n",
    "    \"\"\"Tokenize and Lemmatize sentences\"\"\"\n",
    "    def __init__(self, filename):\n",
    "        self.filename = filename\n",
    "\n",
    "    def __iter__(self):\n",
    "        for line in open(self.filename, encoding='utf-8', errors=\"backslashreplace\"):\n",
    "            yield [unidecode(w.lower()) for w in wordpunct_tokenize(line)]"
   ]
  },
  {
   "cell_type": "code",
   "execution_count": 3,
   "metadata": {},
   "outputs": [],
   "source": [
    "infile = f\"../data/sents_economique.txt\"\n",
    "sentences = MySentences(infile)"
   ]
  },
  {
   "cell_type": "code",
   "execution_count": 4,
   "metadata": {},
   "outputs": [],
   "source": [
    "bigram_phrases = Phrases(sentences)"
   ]
  },
  {
   "cell_type": "code",
   "execution_count": 5,
   "metadata": {},
   "outputs": [
    {
     "data": {
      "text/plain": [
       "dict"
      ]
     },
     "execution_count": 5,
     "metadata": {},
     "output_type": "execute_result"
    }
   ],
   "source": [
    "type(bigram_phrases.vocab)"
   ]
  },
  {
   "cell_type": "code",
   "execution_count": 6,
   "metadata": {},
   "outputs": [
    {
     "data": {
      "text/plain": [
       "1637821"
      ]
     },
     "execution_count": 6,
     "metadata": {},
     "output_type": "execute_result"
    }
   ],
   "source": [
    "len(bigram_phrases.vocab.keys())"
   ]
  },
  {
   "cell_type": "code",
   "execution_count": 7,
   "metadata": {},
   "outputs": [
    {
     "name": "stdout",
     "output_type": "stream",
     "text": [
      "tableau_precis\n"
     ]
    }
   ],
   "source": [
    "key_ = list(bigram_phrases.vocab.keys())[144]\n",
    "print(key_)"
   ]
  },
  {
   "cell_type": "code",
   "execution_count": 8,
   "metadata": {},
   "outputs": [
    {
     "data": {
      "text/plain": [
       "1"
      ]
     },
     "execution_count": 8,
     "metadata": {},
     "output_type": "execute_result"
    }
   ],
   "source": [
    "bigram_phrases.vocab[key_]"
   ]
  },
  {
   "cell_type": "code",
   "execution_count": 9,
   "metadata": {},
   "outputs": [],
   "source": [
    "bigram_phraser = Phraser(phrases_model=bigram_phrases)"
   ]
  },
  {
   "cell_type": "markdown",
   "metadata": {},
   "source": [
    "### Extraction des trigrams"
   ]
  },
  {
   "cell_type": "code",
   "execution_count": 10,
   "metadata": {},
   "outputs": [],
   "source": [
    "trigram_phrases = Phrases(bigram_phraser[sentences])"
   ]
  },
  {
   "cell_type": "code",
   "execution_count": 11,
   "metadata": {},
   "outputs": [],
   "source": [
    "trigram_phraser = Phraser(phrases_model=trigram_phrases)"
   ]
  },
  {
   "cell_type": "markdown",
   "metadata": {},
   "source": [
    "### Création d'un corpus d'unigrams, bigrams, trigrams"
   ]
  },
  {
   "cell_type": "code",
   "execution_count": 12,
   "metadata": {},
   "outputs": [],
   "source": [
    "corpus = list(trigram_phraser[bigram_phraser[sentences]])"
   ]
  },
  {
   "cell_type": "code",
   "execution_count": 13,
   "metadata": {},
   "outputs": [
    {
     "name": "stdout",
     "output_type": "stream",
     "text": [
      "[['a', 'servir', 'le', 'pays', 'a', 'l', \"'\", 'endroit', 'le', 'plus', 'dangereux', 'edgard_lalmand', 'a', 'parle', 'a', 'louvain', 'rouge', 'fondateur', 't', 'joseph', '$', '4', 'jacquemotte', 'le', 'camarade_lalmand', ',', 'ministre', 'de', 'terminer', 'cette', 'guerre', 'rapide', '-', 'du_ravitaillement', ',', 's', \"'\", 'est', 'adresse', 'au', 'ment', 'et', 'victorieusement', ',', 'peuple', ',', 'au_cours', 'd', \"'\", 'un', 'grand', 'mee', '-', '>>', 'pour', 'mener', 'la', 'guerre', ',', 'avee', 'suc', '-', 'ting', 'enthousiaste', 'a', \"'\", 'louvain', '.'], ['il', 'a', 'ces', ',', '11_faut', 'intensifier', 'la', 'production', 'brosse', 'un_tableau', 'precis', 'de', 'la', 'situa', '-', 'et', 'faire_regner', 'la', 'justice', '.'], ['il_faut', 'tion', 'actuelle', '.', \"'\"], ['aussi', 'alimenter', 'convenablement', 'le', '<<', 'le', 'gouvernement_van_acker', ',', 'a', '-', 'pays', '.'], ['t', '-', '11', 'declare', ',', 'est', 'place', 'aujourd', \"'\", 'hui', 'devant', 'une', 'tache', 'enorme', '.'], ['cette_tache', ',', 'u', 'ne_peut', 'la', 'mener', 'a', 'bonne', 'lin', ',', 'qu', \"'\", 'avec', 'le', 'concours', 'de', 'notre_peuple', '>>.'], ['en_effet', ',', 'en_raison', 'de', 'la', 'gravite', 'de', 'h', '.', 'situation', ',', 'de', 'l', \"'\", 'ampleur', 'de', 'la', '>>', 'nous', ',', 'communistes', ',', 'assumons', 'une', 'lourde_tache', 'en_acceptant', 'le', 'portefeuille', 'du_ravitaillement', '.'], ['>>', 'nous', 'saivions', 'que', 'les', 'stocks', 'de', 'notre_pays', 'etaient', 'presque', 'epuises', '.', \"'\"], ['>>', 'nous_avons', 'accepte', ',', 's', \"'\", 'ecrie', 'le', 'c', '.', 'lalmand', ',', 'sous', 'les', 'applaudisse', '-', 'tache', 'a', 'executer', ',', 'le', 'gouvernement', 'ments', 'enthousiastes', ',', 'parce_que', ',', 'ne_peut', 'reussir', 'seul', ',', 'sans', 's', \"'\", 'appuyer', 'nous', ',', 'communistes', ',', 'sommes', 'tou', '-', 'sur', 'les', 'masses_populaires', '.'], ['les', 'en', '-', 'jours', 'prets', 'a', 'servir', 'notre_pays', 'et', 'm', '-', 'mls', 'de', 'l', \"'\", 'effort', 'de', 'guerre', ',', 'de', 'notre_peuple', 'a', 'l', \"'\", 'endroit', 'le', 'pfus', 'dan', '-', 'l', \"'\", 'epuration', ',', 'de', 'la', 'renovation', 'econo_-', 'gereux', '!'], ['>>', 'm', \"'\", '__e', 'comptent', 'des', 'complicites', 'le', 'ministre_du_ravitaillement', 'd', '.', '_is', 'tout', 'l', \"'\", 'appareil', 'de', 'l', \"'\", 'etat', '.'], ['les', 'analyse', 'la', 'situation', 'avec', 'franchise', ';', 'collaborateurs', 'de', 'guerre', ',', 'les', 'gros', 'il', 'parle', 'de', 'la', 'penurie', 'de', 'viande', ',', 'trafiquants', 'du', 'marche_noir', 'croient', ',', 'des', 'livraisons', 'insuffisantes', 'de', 'lait', ',', 'par', 'leurs', 'influences', ',', 'leurs_relations', ',', 'du', 'manque', 'de', 'pommes', 'de', 'terre', 'echapper', 'aux', 'rigueurs', 'de', 'la', 'loi', '.'], ['du', 'en', 'partie', 'a', 'l', \"'\", 'incurie', 'de', 'certains', 'c', \"'\", 'est', 'le', 'peuple', 'qui', ',', 'par', 'sa', 'masse', ',', 'services', 'qui', 'les', 'ont', 'laissees', 'geler', '.'], ['sa_puissance', ',', 'son_propre', 'attache', '-', 'apres_avoir', 'precise', 'les', 'mesures', 'ment', 'a', 'la', 'liberte', ',', 'son', 'interet', 'im', '-', 'd', \"'\", 'epuration', 'que', 'l', \"'\", 'on', 'prend', 'dans', 'son', 'mediat', 'a', 'assainir', 'le', 'pays', ',', 'est', 'l', \"'\", 'ap', '-', 'departement', ',', 'le', 'c', '.', 'lalmand', 'definit', 'nul', 'naturel', 'du', 'gouvernement', 'dans', 'la', 'politique', 'de', 'confiance', 'et', 'de', 'com', '-', '1_', 'realisation', 'de', 'son_programme', ',', 'prehension', 'que', 'le', 'gouvernement', 'seuls', 'ont', 'peur', 'du_peuple', ',', 'ceux_qui', 'entend', 'poursuivre', 'a', 'l', \"'\", 'egard', 'des', 'nourrissent', 'a', 'son', 'egard', 'des', 'desseins', 'paysans', 'travailleurs', '.'], ['h', 'exprime_sa', 'inavouables', 'au_contraire', ',', 'les', 'gou_-', 'volonte', 'de', 'vaincre', 'le', 'marche_noir', ',', 'vernement', '.'], ['vraiment', 'democrates', 'de', 'traquer', 'les', 'gros', 'trafiquants', ',', 'ne', 'craignent', 'pas', 'de', 'l', \"'\", 'associer', 'com', '-', 'd', \"'\", 'empecher', 'les', 'restaurants', 'de', 'luxe', 'plctement', 'a', 'leur', 'action', '.'], ['d', \"'\", 'insulter', 'la', 'detresse', 'populaire', '.'], ['le', 'camarade_lalmand', 'applique', '<<', 'le', 'gouvernement_van_acker', ',', 'ce', 'grand', 'principe', 'patriotique', 'a', 'conclut', '-', 'il', '.'], ['reusslra', '-', 't', '-', 'il', 'a', 'executer', 'l', \"'\", 'etude', 'du', 'probleme', 'de', 'l', \"'\", 'augmen', '-', 'son_programme', 'malgre', 'les', 'manoeu', '-', 'tation', 'de', 'la', 'production', '.'], ['vres', 'de', 'la', 'reaction', '?'], ['cela', 'ne', 'de', '-', '<<', 'pour', 'augmenter', 'la', 'production', ',', 'pendra', 'pas_seulement', 'du', 'gouver', '-', 'continue', '-', 't', '-', 'il', '.'], ['u', 'est_indispensable', 'de', 'nement', '.'], ['plus', 'que', 'jamais', ',', 'l', \"'\", 'unite', 's', \"'\", 'assurer', 'le', 'concours', 'des', 'ouvriers', ',', 'des', 'patriotes', ',', 'l', \"'\", 'unite_ouvriere', ',', 'la', 'esperons_que', 'le', 'gouvernement', 's', \"'\", 'ap', '-', 'concentration', 'democratique', 'sont', 'in', 'pu', ';', '__', 'sur', 'les', 'travailleurs', 'pour', 're', '-', 'dispensawes', '>>.'], ['soudre', 'les', 'problemes', 'si', 'importants', 'parlant', 'plus_specialement', 'du', 'role', 'de', 'la', 'production', '.'], ['esperons_que', 'des', 'communistes', ',', 'le', 'c', '.', '#', 'lalmand', 'tout', 'en', 'donnant', 'des', 'conseils', 'aux', 'conclut', ':', 'delegues_ouvriers', ',', 'il', 'saura', 'ecouter', '<<', 'nous', ',', 'communistes', ',', 'ne', 'son', '-', 'leur', 'voix', ',', 'noter', 'leurs', 'suggestion', '.,', 'mes', 'pas', 'des', 'exaltes', ',', 'des', 'reveurs', 'ou', 'chercher', 'avec_eux', 'les', 'solutions', 'ade', '-', 'des', 'utopistes', '.'], ['nous_sommes', 'de', ';', 'rea', '-', 'quates', 'et', 'compter_sur', 'leurs', 'organi', '-', 'listes', 'comme', 'le', 'furent', 'marx', ',', 'ensilions', 'syndicales', 'pour', 'l', \"'\", 'aider', 'gels', 'et', 'lenine', ',', 'comme', 'l', \"'\", 'est', 'au', 'jour', '-', 'dans', 'l', \"'\", 'execution', 'des', 'mesures_prises', ',', 'd', \"'\", 'hui', 'staline', '.'], ['la', 'tache', 'd', \"'\", 'aujour_-', '>>', 'avant_tout', ',', 'poursuit', 'le', 'c', '.', 'loi', '-', 'd', \"'\", 'hui', 'consiste', 'a', 'vaincre', 'l', \"'\", 'hitleris', '-', 'mand', ',', 'il_faut', 'briser', 'les', 'manoeuvres', 'me', ',', 'dont', 'l', \"'\", 'ecrasement', 'doit', 'ouvrir', 'de', 'ceux_qui', 'briment', 'les', 'delegues', 'le', 'chemin', 'au', 'progres', 'politique', 'et', 'syndicaux', 'en', 'realisant', 'au_plus_tot', 'social', 'ulterieur', '.'], ['nous_ne_voulons', 'la', 'promesse', 'gouvernementale', ':', 'don', '-', 'pas', 'construire', 'tout', 'seuls', ',', 'la', 'veri', '-', 'ner', 'un', 'statut', 'aux', 'commissions', 'pa', '-', 'table', 'societe', 'socialiste', 'mais', 'avec', 'litaires', 'et', 'permettre_aux', 'organisa', '-', 'le', 'concours', 'de', 'l', \"'\", 'ensemble', 'des', 'for', '-', 'tions', 'syndicales', 'de', 's', \"'\", 'y', 'faire', 'repre', '-', 'ces', 'populaires', ',', 'avec', 'tous_les', 'verita', '-', 'senter', 'au_prorata', 'de', 'leurs_effectifs', ',', 'bles', 'amis', 'du', 'progres_social', '.'], ['apres_avoir', 'traduit', 'l', \"'\", 'indignation', '>>', 'pour', 'construire', 'cette_nouvelle', 'que', 'le', 'pays', 'ressent', 'a', 'l', \"'\", 'egard', 'des', 'societe', ',', 'nous_ferons', 'usage', 'de', 'tous', 'arrestations', 'scandaleuses', 'de', 'mem', '-', 'les', 'facteurs', 'positifs', 'que', 'comportent', 'bres', 'de', 'la', 'resistance', ',', 'apres_avoir', 'l', \"'\", 'economie', 'et', 'la', 'culture', 'actuelle', '>>.'], ['reclame', 'leur', 'liberation_immediate', ',', 'dans', 'une', 'vibrante', 'peroraison', ',', 'le', 'camarade_lalmand', 'abor', \"*-'-\", 'l', \"'\", 'an', '-', 'notre_camarade', 'lalmand', 'a', 'clame', 'poissant', 'probleme', 'du', 'ravitaille', '-', 'sa_confiance', 'dans', 'une', 'large', '<<', 'rament', ',', 'centration', 'democratique', 'qui', 'res', '-', '<<', 'toutes_nos', 'taches', 'actuelles', ',', 'dit', '-', 'taurera', 'une', 'belgique', 'libre', 'et', 'heu', '-', 'il', ',', 'sont', 'determinees', 'par', 'la', 'necessite', 'reuse', '.'], ['organe_central_quotidien', 'du_parti', 'communiste', 'de', 'belgique', 'mardi', '6_mars', '1945', 't', 'annee', '-', 'n_deg', '48', '(', 'edit', '.'], ['bruxelles', ')', '1', 'belgique', ':', '1', 'fr', '.'], ['-', 'france', 'i', ':', '2', 'fr', '.'], ['#', '.'], ['#', '\"', '.'], ['!', '__', ',', \"'\", '.'], ['redaction', 'et', 'administrations', 'av', '.'], ['du', 'midi', ',', '18', '-', '20', ',.'], ['bruxelles', 'telephones_:', '12', '.', '01', '.', '00', '.', '08', '-', '09', 'pour', 'is', 'publicite', ',', 's', \"'\", 'adresser', 'exclusivement', 'i', 'l', \"'\", 'agence_rossel', ',', '122', ',', 'r', '.', 'royale', ',', 'bruxelles', '.'], ['les', 'armees', 'je', 'joukov', 'a', '30', 'l_ilon_e_res', 'de', '%', 'tei', 'tin', 'siargavd', ',', 'd', '.', 'eug_trd', 'occupees', 'le', 'rhin', 'atteint', 'entre', \"'\", 'cologne', 'et', 'crefeld', 'combats', 'dans', 'cologne', 'starcard', ',', 'a', '.', '32_km', '.'], ['de', 'stett1n', ',', 'est', 'occupee', 'moscou', ',', '5', '.'], ['--', 'ur', '>>', 'ordre', 'du', 'jour', 'du', 'marechal_staline', 'annonce', 'la', 'prise', 'de', 'stargard', ',', 'a', '32_km', '.'], ['de', 'stettih', '.'], ['la', 'ville', 'de', 'polzin', ',', 'a', 'l', \"'\", 'ouest', 'de', 'neu', '-', 'stettin', ',', 'a', 'ete', 'egalement', 'capturee', '.'], ['l', \"'\", 'ordre', 'du', 'jour', ',', 'qui', 'est', 'adresse', 'au', 'marechal_joukov', ',', 'commandant', 'du', 'premier', 'front', 'de', 'bielorussie', ',', 'et', 'a', 'son', 'chef', 'd', \"'\", 'etat', '-', 'major', ',', 'le', 'colonel', '-', 'general', 'malinine', ',', 'dit', ':', '*', '*', 'les', 'troupes', 'du', 'premier', 'front', ',', 'de', 'bielorussie', ',', 'poursuivant', 'leur', 'avance', ',', 'ont', ',', 'aujourd', \"'\", 'hui', '5_mars', ',', 'occupe', 'les', 'villes', 'de', 'stargard', ',', 'de', 'neugard', 'et', 'de', 'polzin', ':', 'importants', 'centres', 'de', 'communication', 'et', 'points', 'puissamment', 'fortifies', 'des', 'defenses', 'allemandes', 'en', 'direction', 'de', 'stettiii', '.'], ['le', 'communique', 'sovietique', 'en', 'date_du', '5_mars', 'moscou', ',', '5', '.'], ['--', 'au_sud', '-', 'ouest', 'de', 'koenigsberg', 'plusieurs_localites', 'ont_ete', 'occupees', '.'], ['nos_troupes', 'se_sont_emparees', 'de', '7', 'localites', 'au_sud', 'et', 'au_sud', '-', 'ouest', \"'\", 'de', 'dantzig', '.'], ['en', 'pomeranie', ',', 'au_nord', '-', 'est', 'et', 'a', 'l', \"'\", 'est', 'de', 'koslia', 'plus', 'de', '80', 'localites', 'ont_ete', 'occupees', '.'], ['les', 'troupes', 'du', '1_er', 'front', 'de', 'bielorussie', 'poursuivant', 'leur', 'offensive', 'en', 'direction', 'de', 'stettin', 'se_sont_emparees', 'de', 'plus', 'de', '150', 'localites', 'dont', 'la', 'ville', 'de', 'stargard', '.'], ['eh', 'tchecoslovaquie', ';', 'a', 'l', \"'\", 'puest', 'de', 'lucenec', ',', 'plusieurs_localites', 'ont_ete', 'liberees', '.'], ['le', '4', 'mars', ',', 'sur', 'tous_les_fronts', ',', '70', 'chars', 'et', '.', '15', 'avions', 'ont_ete_detruits', '.'], ['rokossovskv', 'et', 'ioukov', 'operent', 'leur_jonction', 'la', 'b', '.'], ['b', '.', 'c', '.', 'anrvori', '-', 'e', 'que', 'les', 'troupes', 'des', 'marechaux', 'joukov', 'et', 'rokos', '-', 'sovsky', 'ont', 'opere', 'leur_jonction', 'sur', 'la', 'cote', 'de', 'la', 'baltique', ',', 'a', 'l', \"'\", 'est', 'de', 'col', '-', '*', 'berg', 'ou', 'se_livrent', ':', 'des', 'combats', 'de', 'rue', '.'], ['comment', 'fuf', 'effectuee', 'la', 'percee', 'vers', \"'\", 'la', 'baltique', '.'], ['le', 'ministere_du_ravitaillement', 'traque', 'le', 'marche_noir', 'les', 'restaurants', 'de', 'luxe', 'et', 'autres', 'etablissements', 'similaires', 'du', 'marche_noir', 'ont', 'ehonte', 'la', 'population', 'et', 'desservi', 'le', 'pays', 'a', 'l', \"'\", 'etranger', 'en', 'lui', 'laissant', 'croire_que', 'la', 'belgique', 'etait', 'un', 'pays', 'de', 'cocagne', ';', 'alors_que', 'les', 'masses', 'sont', 'degradees', 'physiologiquement', 'par', '\"', 'cinq_annees', 'de', 'famine', '.'], ['pour', 'mettre', 'un_terme', '_', 'ces', '*', 'bus', 'le', 'ministre_du_ravitaillement', 'a', 'decide', 'ces_derniers_jours', 'la', 'fermeture', 'de', ':', '27', 'restaurants', ';', '1', 'cafe', 'servant', 'de', 'bourse', 'au_marche_noir', ';', '2', 'patisseries', '.'], ['la', 'viande', ',', 'le', 'beure', ',', 'les', 'oeufs', 'et', 'autres', 'denrees', 'de', 'premiere_necessite', 'qui', 'ont_ete_saisies', 'dans', 'ces', 'etablissements', 'sont_rentres', 'dans', 'le', 'circuit', 'normal', 'de', 'la', 'distribution', '.'], ['les', 'produits', 'de', 'luxe', 'prepares', ',', 'etc_..', 'ont_ete', 'remis', 'a', 'des', 'oeuvres', ',', 'asiles', ',', 'armee', 'du', 'salut', ',', 'etc_..', 'l', \"'\", 'organe_du_parti', 'communiste', 'd', \"'\", 'angleterre', 'propose', 'l', \"'\", 'union', 'au', 'parti_travailliste', 'dan_?'], ['son', 'editorlal', ',', 'le_<<_daily', 'wor', '-', '*>>', '>>', 'demande', 'l', \"'\", 'union', 'des', 'travalllls', '-', '*\"\\'', 'et', 'des', 'communistes', 'britanniques', '.'], ['il', 'c1', 'w', 'l', \"'\", 'exemple', 'des', \"'\", 'c', '-', 'cialltes', 'et', 'commu', '-', '\"/\"', 's', 'francais', '<<', 'representant', 'la', 'majorl', '-', \"'*\", 'ae', 'la', 'nation', '>>', 'qui', 'ont', 'realise', 'un', 'j', '/', 'td', 'et', 'publie_une_declaration', 'commune', 'sur', 'la', 'reconstruction_economique', '.'], ['j', '*(', 'te', 'declaration', 'a', '<<', 'une_profonde', 'signification', '.'], ['elle', 'prouve', 'qu', \"'\", 'une', 'action', \"'.\", 'itmiine', 'des', 'communistes', 'et', 'des', 'so', '-', 'cialsstr', '-', 's', 'n', \"'\", 'est', 'pas', 'si', 'difficile', '_', 'realiser', 'j', \"'\", 'ie', 'certains', 'pessimistes', 'en', 'grande', '-', 'bre', '-', 'wine', 'se', 'plaisent', 'h', 'l', \"'\", 'affirmer', '>>.'], ['et', 'le', '<<', 'paily', 'worker_>>', 'conclut', ':', '*', '<<', 's', 'travailleurs', 'britanniques', 'envolent', 'jn', 'chaleureux', 'message', 'de', 'felicitations', '*', 'teurs', 'cam', '**#*', 'de', 'leur', 'logements', 'et', 'loyers', 'le', 'projet', 'de', 'loi', 'vu', 'par', 'nos', 'formations', 'scnt', 'passees', 'a', 'l', \"'\", 'attaque', 'le', '1', '\"\\'', 'mars', '*:', 'a', 'l', \"'\", 'est', 'de', 'stargard', ',', 'apres', 'une', 'preparation', 'd', \"'\", 'artillerie', 'ef', 'ont', 'brise', 'les', 'puissantes', 'defenses', 'ennemies', '.'], ['une', 'bataille', 'acharnee', 's', \"'\", 'est', 'developpee', 'dans', 'la', 'region', 'boisee', '.'], ['le', 'degel', 'et', 'les', 'pluies', '*', 'recentes', 'avaient', 'transforme', 'les', 'routes', 'en', 'bourbier', 'et', 'beaucoup', 'de', 'fleuves', 'constituaient', 'des', 'obstacles', 'difficiles', 'a', 'surmonter', '.'], ['ils', 'le', 'furent', 'cependant', 'et', 'l', \"'\", 'ennemi', ',', 'qui', 's', \"'\", 'etait', 'rentranche', 'au_milieu', 'de', 'nombreux', 'lacs', ',', 'fut', 'deloge', 'j', 'de', 'sa', '-', 'position', '.'], ['et', '.'], ['nos_troupes', 'ont', '?'], ['continue', 'leur', 'poussee', 'vers', 'le', 'nord', '.'], ['j', 'des', 'rejerve', '*}', 'allemandes', 'approchant', 'j', 'la', 'zone', 'de', 'combat', '\"', 'ont_ete', 'intercep', '-', 's', 'tees', 'et', 'dispersees', '.'], ['nos_troupes', 'ont', 'j', 'atteint', 'la', 'cote', 'de', ';', 'la', 'region', 'de', 'kol', '-', '5', 'berg', '.', '.', '|', '.'], [';', 'au_cours', 'de', 'ce', 'combat', ',', 'une', 'de', '-', '!'], ['j', 'faite', 'sanglante', 'a', 'ete', 'infligee', 'a', 'deux', 'j', 'divisions', 'motorisees', ',', 'a', 'trois_divisions', \"#'\", 'd', \"'\", 'infanterie', '.'], ['ss', 'et', 'a', 'd', \"'\", 'autres', 'forma', '-', ':', '*,', 'tions', 'ennemies', '.'], ['j', 'h', 'toutes_les_tentatives', 'du', 'commandement_allemand', 'en_vue', 'de', 'contenir', 'nos_troupes', 'devant', 'les', 'defenses', 'intermediaires', 'ont_echoue', 'grace', 'a', 'la', 'determination', '-', 'avec', 'laquelle', 'l', \"'\", 'armee_rouge', 'a', 'assene', 'ses', 'coups', '.'], ['un', 'butin', 'enorme', 'et', 'un', 'grand_nombre', 'de', 'prisonniers', 'ont_ete', 'faits', '(', 'additif', 'au', 'communique', 'sovietique', ').'], ['cologne', 'jusqu', \"'\", 'au_dela', 'de', 'crefeld', '.'], ['les', 'allemands', 'ne_tiennent', '-', 'plus', 'qu', \"'\", 'une_petite', 'tete', 'de', 'pont', 'a', 'la', 'hauteur', 'de', 'wesel', 'par', 'ou', 'ils_esperent', 'encore', 'pouvoir', 'evacuer', 'un_certain', 'nombre', 'de', 'leurs_troupes', 'restees', 'en', 'arriere', '.'], ['la', 'superficie', 'de', 'cette', 'tete', 'de', 'pont', 'se', 'reduit', 'sans', ';', 'cesse', 'sous', 'les', 'attaques', 'conjuguees', 'des', 'forces', 'anglo_-', 'canadiennes', 'et', 'americaines', '.', \"'\"], ['a', 'wesel', ',', 'les', 'allemands', 'disposent', 'encore', 'de', 'deux_ponts', ';', 'l', \"'\", 'un', 'des', 'deux', 'est', 'endommage', 'et', '.'], ['ne_peut', 'plus', 'etre_utilise', 'que', 'pour', 'le', 'trafic', 'leger', '.'], ['plus', 'au_sud', ',', 'a', 'homberg', ',', 'qui', 'est', ',', 'en', 'fait', ';', 'le', 'faubourg', 'de', 'duisbourg', 'sur', 'la', 'rive', 'ouest', ',', 'on_confirme', 'que', 'les', 'deux_ponts', 'sont', 'intacts', 'et', 'que', 'les', 'americains', 'en', 'tiennent', 'les', 'extremites', 'ouest', '.', '.', '(_voir', 'suite', 'en', '2e_page', ')', 'une_fois', 'je', 'plus', 'la', 'c', '-', 'b_', '.', 's_', '.', 'ii', '.'], ['tend', 'la', 'main', 'aux', 'autres', 'organisations_syndicales', 'sous', 'ce', 'titre', ',', '<<', 'l', \"'\", 'unite', 'syndl', '-', 'est', 'annonce', 'a', 'breve_echeance', 'par', 'cale', '>>', 'publie', '1', 'important', 'ordre', 'du', 'la', 'declaration_gouvernementale', 'et', 'jour_suivant', ':', 'propose', ',', 'en', 'tout', 'etat', 'de', 'cause', ',', 'qua', '<<', 'le', 'comite_national', 'de', 'la', 'c', '.', 'b', '.', 'les', 'organisations', 'interessees', 'se', 'pre', '-', 's', '.', 'u_.,', 'reuni', '*', 'le', '23_fevrier', '1945', 'et', 'sentent', 'sur', 'des', 'listes', 'communes', 'au', 'comportant', 'les', 'delegues', 'des', 'or', '.'], ['a', '-', 'cas_ou', 'l', \"'\", 'unification', 'ne_serait', 'pa_', 'nisations', 'suivantes_:', 'encore', 'faite', 'o', 'uaohevee', ';', '>>', 'intersyndicales', 'de', 'grammont', ',', '>>', 'regrette', 'vivement', 'que', '1', '.'], ['gand', ',', 'alost', ',', 'tirlemont', ',', 'ostende', ',', 'm', '.', 's', \"'.\"], ['u', '.'], ['(', 'renard', ',', 'clersy', ',', 'genot', ')', 'bruges', ',', 'turnhout', ',', 'isegh', '-', 'm', ',', 'mali', '-', 'loin', 'de', 'tenir', 'sa_promesse', 'de', 'fu', '-', 'nes', ',', 'renaix', ',', 'anvers', ',', 'limbourg', ',', 'la', 'sionnef', 'avec', 'la', 'c', '.', 'b', '.', 's', '.', 'u', '.', 'si', 'l', \"'\", 'unite', 'vallee', 'du', 'rupel', ',', 'bruxelles', ',', 'namur', ',', 'avec', 'l', \"'\", 'a', 'c', '.', 'g', '.', 't', '.', 'b', '.', 'n', \"'\", 'etait', 'pas', 'faite', 'genappe', ',', 'charleroi', ',', 'soignies', ',', 'les', '-', 'au_debut', 'de', 'fevrier', ',', 'persevere', 'dans', 'sines', ',', 'ath', ',', 'tournai', ',', 'basse', '-_sambre', ',', 'une', 'attitude', 'scissionniste', 'par', 'rap', '-', 'borinage', ',', 'centre', ';', 'port', 'aux', 'syndicats_uniques', 'en', 'fai', '-', '>>', 'syndicas', 'uniques', 'nationaux', 'des', 'sant', 'ufae', 'propagande', 'sterile', 'notam_-', 'employes', ',', 'tramwaymen', ',', 'services', 'ment', 'a', 'bruxelles', ',', 'dans', 'le', 'centre', 'publics', ',', 'mineurs', ',', 'batiments', ',', 'pos', '-', 'et', 'dans', 'les', 'flandres', ',', 'alors_que', 'la', 'tes', ',', 't', '.', 't', '.,', 'pierre', ',', 'textile', '.'], ['c', '.', 'b', '.', 's', '.', 'u', '.', 'lui', 'a', 'propose', 'tant', 'de', '*', '>>', 'constate_qu', \"'\", 'aucun', 'obstacle', 'fois', 'la', 'fusion', 'en', 'multipliant', 'les', 'doctrinal', 'appreciable', 'ne_subsiste', 'garanties', 'de', 'democratie', ',', 'd', \"'\", 'indepen', '-', 'entr', 'e', 'la', 'c', '.', 'g', '.', 't', '.', 'b', '.', 'd', \"'\", 'une', 'part', ',', 'la', 'dance', ',', 'etc', '.'], [';', 'c', '.', 'b', '.', 's', '.', 'u_.,', 'le', 'm', '.', 's', '.', 'u', '.', 'et', 'le', 'syndi', '-', '>>', 'regrette', 'aussi', 'que', 'le', 'syndicat', 'general', 'des', 'services', 'publies', 'cbx', 'general', 'des_services_publics', ',', 'd', \"'\", 'autre_part', ',', 'et', 'que', 'l', \"'\", 'unification', 'loin', '^', 'respecter', 'le', 'pacte', 'd', \"'\", 'unite', 'pouvait', 'parfaitement', 'commencer', 'le', 'organique', 'conclu', 'avec', 'le', 'bureau', '31_janvier', 'ecoule', ';', '-', 'national', 'des', 'c', '.', 'l', '.', 's', '.', '--', 'pour', 'la', '>>', 'estime_que', 'l', \"'\", 'unification', 'doit', 'wallonie', '--', 'et', 'de', 'l', \"'\", 'etendre', 'a', 'tout', 'entrer_dans', 'les', 'realites', ',', 'sans', 'le', 'le', 'pays', ',', 'persevere', 'comme', 'le', 'ni', \"'.\"], ['s', '.', 'u', '.', 'moindre', 'delai', ',', 'afin', 'que', 'ce', 'soit', 'une', 'a', 'concevoir', 'que', 'l', \"'\", 'unite', 'consisterait', 'seule', 'et', 'puissante', 'organisation', 'qui', 'a', 'disloquer', 'la', 'c', '.', 'b', '.', 's', '.', 'u', '.', 'pour', 'con', '.'], ['se_presente', 'devant', 'les', 'commissions', 'struir', '!'], ['des', 'centrales', ',', 'des', 'intersyn', '-', 'paritaires', 'dont', ',', 'le', 'renouvellement', 'dicales', 'ou', 'des', 'federations', 'regionales', ',', 'sans', 'attache', 'avec', 'une', 'confede', '-', 'f', '.', 'vw_w_', '%', 'ftflw_', '..', 'r_w_wvw', '.'], [\"'\", '_w', '^', 's', 'dans', 'la', 'region_liegeoise', 'PS', 'm', '.', 'l', '.', 'habite', 'a', 'st_-', 'gilles', '(', 'fau', '-|', 'la', 'crise_du_logement', 'sevit', ',', 'ceci', \"'.\", 'leurs_camarades', 'francais', 'pour', 'le', 'suc', '-', 'efforts', 'vers', '1', 'union', '>>.'], ['scandaleux', '!'], ['nous_venons', 'de', 'lire', 'dans', 'le', '<*', 'peuple', '>>', 'du', 'lundi', 'o', 'mars', ',', 'sous', '<<', 'titre', ':', '<<', 'l', \"'\", 'unite_syndicale', '>>', '<<', 'sic_)', 'un', 'texte', 'vraiment', 'scanda', '-', '<<', 'ux', '.'], ['se_basant', 'sur', 'des', '<<', 'renseignements', '>>', 'fournis', 'lors', 'd', \"'\", 'une', 'reu', '-', 'von', 'du', 'comite_national', 'd', \"'\", 'une', 'centrale', 'de', 'la', 'c', '.', 'g', '.', 't', '.', 'b_.,', 'le', 'redac', '-', '**', 'ur', 'de', 'cette_note', 'conclut', ',*', 'apres', 'j', '^', 'e', 'attaque', 'mechante', 'contre', 'les', 'syndicats_uniques', ',', 'a', 'l', \"'\", 'impossibilite', 'fle', 'l', \"'\", 'unite', 'et', 'a', 'la', 'necessite', 'de', 'rompre', 'nationalement', 'les', 'pourparlers', 'q', 'unite', 'avec', 'la', 'c', '.', 'b', '.', 's', '.', 'u', '.'], ['evidemment', ',', 'il', 's', \"'-\", 'agit', 'la', 'de', '<<', 'renseignements', '>>,', 'd', \"'\", 'intervention', 'de', '*', 'certains', '>>', 'membres', '.'], ['tout_cela', ',', 'tres', 'vague', 'a', 'dessein', '.'], ['nous', 'prefererions', 'connaitre', 'l', \"'\", 'avis_officiel', 'du', 'deg**|', '_w', 'national', 'de', 'cette', 'centrale', '.']]\n"
     ]
    }
   ],
   "source": [
    "print(corpus[:100])"
   ]
  },
  {
   "cell_type": "markdown",
   "metadata": {},
   "source": [
    "## Entrainement d'un modèle Word2Vec sur ce corpus"
   ]
  },
  {
   "cell_type": "code",
   "execution_count": null,
   "metadata": {},
   "outputs": [],
   "source": [
    "%%time\n",
    "model = Word2Vec(\n",
    "    corpus,\n",
    "    vector_size=32, \n",
    "    window=3, \n",
    "    min_count=20,\n",
    "    workers=4, \n",
    "    epochs=5 \n",
    ")"
   ]
  },
  {
   "cell_type": "markdown",
   "metadata": {},
   "source": [
    "### Sauver le modèle dans un fichier"
   ]
  },
  {
   "cell_type": "code",
   "execution_count": 61,
   "metadata": {},
   "outputs": [],
   "source": [
    "outfile = f\"../data/newspapers.model\"\n",
    "model.save(outfile)"
   ]
  },
  {
   "cell_type": "markdown",
   "metadata": {},
   "source": [
    "## Explorer le modèle"
   ]
  },
  {
   "cell_type": "markdown",
   "metadata": {},
   "source": [
    "### Charger le modèle en mémoire"
   ]
  },
  {
   "cell_type": "code",
   "execution_count": 62,
   "metadata": {},
   "outputs": [],
   "source": [
    "model = Word2Vec.load(\"../data/newspapers.model\")"
   ]
  },
  {
   "cell_type": "markdown",
   "metadata": {},
   "source": [
    "### Imprimer le vecteur d'un terme"
   ]
  },
  {
   "cell_type": "code",
   "execution_count": null,
   "metadata": {},
   "outputs": [],
   "source": [
    "model.wv[\"economique\"]"
   ]
  },
  {
   "cell_type": "markdown",
   "metadata": {},
   "source": [
    "### Calculer la similarité entre deux termes"
   ]
  },
  {
   "cell_type": "code",
   "execution_count": null,
   "metadata": {},
   "outputs": [],
   "source": [
    "model.wv.similarity(\"politique\", \"economique\") \n"
   ]
  },
  {
   "cell_type": "markdown",
   "metadata": {},
   "source": [
    "### Chercher les mots les plus proches d'un terme donné"
   ]
  },
  {
   "cell_type": "code",
   "execution_count": null,
   "metadata": {},
   "outputs": [],
   "source": [
    "model.wv.most_similar(\"strategie\", topn=10)"
   ]
  }
 ],
 "metadata": {
  "kernelspec": {
   "display_name": "Python 3.10.5 ('tac_venv': venv)",
   "language": "python",
   "name": "python3"
  },
  "language_info": {
   "codemirror_mode": {
    "name": "ipython",
    "version": 3
   },
   "file_extension": ".py",
   "mimetype": "text/x-python",
   "name": "python",
   "nbconvert_exporter": "python",
   "pygments_lexer": "ipython3",
   "version": "3.11.6"
  },
  "vscode": {
   "interpreter": {
    "hash": "b1932ab1d169b4769d1550e799423b6477588e745f266d79d9004c136c81607e"
   }
  }
 },
 "nbformat": 4,
 "nbformat_minor": 4
}
