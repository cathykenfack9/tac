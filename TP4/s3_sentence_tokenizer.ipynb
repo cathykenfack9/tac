{
 "cells": [
  {
   "cell_type": "markdown",
   "metadata": {},
   "source": [
    "# Segmentation en phrases"
   ]
  },
  {
   "cell_type": "markdown",
   "metadata": {},
   "source": [
    "## Imports"
   ]
  },
  {
   "cell_type": "code",
   "execution_count": 1,
   "metadata": {},
   "outputs": [],
   "source": [
    "import os\n",
    "import sys\n",
    "import nltk\n",
    "from nltk.tokenize import sent_tokenize"
   ]
  },
  {
   "cell_type": "code",
   "execution_count": null,
   "metadata": {},
   "outputs": [],
   "source": [
    "import os\n",
    "\n",
    "# Définir le chemin vers le répertoire contenant vos fichiers\n",
    "directory_path =  \"../data/txteconomique\" # Remplacez par le chemin réel\n",
    "output_file_path = \"../data/all_economique.txt\" # Chemin du fichier de sortie\n",
    "\n",
    "# Créer un nouveau fichier texte ou écraser le fichier si celui-ci existe déjà\n",
    "with open(output_file_path, 'w', encoding='utf-8') as outfile:\n",
    "    # Itérer sur tous les fichiers du répertoire spécifié\n",
    "    for filename in os.listdir(directory_path):\n",
    "        # Construire le chemin complet vers le fichier\n",
    "        file_path = os.path.join(directory_path, filename)\n",
    "        # S'assurer que c'est bien un fichier et non un répertoire\n",
    "        if os.path.isfile(file_path):\n",
    "            # Ouvrir le fichier en lecture\n",
    "            with open(file_path, 'r', encoding='utf-8') as infile:\n",
    "                # Lire le contenu du fichier et l'écrire dans le fichier de sortie\n",
    "                outfile.write(infile.read() + '\\n')  # Ajouter un saut de ligne entre chaque fichier\n",
    "\n",
    "print(f\"Tous les fichiers ont été combinés en un seul fichier: {output_file_path}\")\n"
   ]
  },
  {
   "cell_type": "markdown",
   "metadata": {},
   "source": [
    "## Fichiers d'inputs et d'outputs"
   ]
  },
  {
   "cell_type": "code",
   "execution_count": 4,
   "metadata": {},
   "outputs": [],
   "source": [
    "infile = \"../data/all_economique.txt\"\n",
    "outfile = \"../data/sents_economique.txt\""
   ]
  },
  {
   "cell_type": "markdown",
   "metadata": {},
   "source": [
    "## Segmentation en phrases du corpus complet et création d'un nouveau fichier"
   ]
  },
  {
   "cell_type": "code",
   "execution_count": null,
   "metadata": {
    "tags": []
   },
   "outputs": [],
   "source": [
    "with open(outfile, 'w', encoding=\"utf-8\") as output:\n",
    "    with open(infile, encoding=\"utf-8\", errors=\"backslashreplace\") as f:\n",
    "        content = f.readlines()\n",
    "        content = content[:LIMIT] if LIMIT is not None else content\n",
    "        n_lines = len(content)\n",
    "        for i, line in enumerate(content):\n",
    "            if i % 100 == 0:\n",
    "                print(f'processing line {i}/{n_lines}')\n",
    "            sentences = sent_tokenize(line)\n",
    "            for sent in sentences:\n",
    "                output.write(sent + \"\\n\")\n",
    "print(\"Done\")"
   ]
  }
 ],
 "metadata": {
  "kernelspec": {
   "display_name": "Python 3.10.5 ('tac_venv': venv)",
   "language": "python",
   "name": "python3"
  },
  "language_info": {
   "codemirror_mode": {
    "name": "ipython",
    "version": 3
   },
   "file_extension": ".py",
   "mimetype": "text/x-python",
   "name": "python",
   "nbconvert_exporter": "python",
   "pygments_lexer": "ipython3",
   "version": "3.11.6"
  },
  "vscode": {
   "interpreter": {
    "hash": "b1932ab1d169b4769d1550e799423b6477588e745f266d79d9004c136c81607e"
   }
  }
 },
 "nbformat": 4,
 "nbformat_minor": 4
}
