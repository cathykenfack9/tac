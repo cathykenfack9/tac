{
 "cells": [
  {
   "cell_type": "markdown",
   "metadata": {},
   "source": [
    "# Extraction de Keywords"
   ]
  },
  {
   "cell_type": "markdown",
   "metadata": {},
   "source": [
    "## Imports"
   ]
  },
  {
   "cell_type": "code",
   "execution_count": 1,
   "metadata": {},
   "outputs": [],
   "source": [
    "import os\n",
    "import yake"
   ]
  },
  {
   "cell_type": "markdown",
   "metadata": {},
   "source": [
    "## Extraire les mots clés de l'année 1945 du corpus"
   ]
  },
  {
   "cell_type": "code",
   "execution_count": 2,
   "metadata": {},
   "outputs": [],
   "source": [
    "#extraction  de mots clés\n",
    "kw_extractor = yake.KeywordExtractor(lan=\"fr\", top=50)\n",
    "kw_extractor\n",
    "\n",
    "from nltk.corpus import stopwords\n",
    "\n",
    "# Définir la liste de stopwords\n",
    "sw = stopwords.words(\"french\")\n",
    "sw += [\"les\", \"plus\", \"cette\", \"fait\", \"faire\", \"être\", \"deux\", \"comme\", \"dont\", \"tout\",\n",
    "       \"ils\", \"bien\", \"sans\", \"peut\", \"tous\", \"après\", \"ainsi\", \"donc\", \"cet\", \"sous\",\n",
    "       \"celle\", \"entre\", \"encore\", \"toutes\", \"pendant\", \"moins\", \"dire\", \"cela\", \"non\",\n",
    "       \"faut\", \"trois\", \"aussi\", \"dit\", \"avoir\", \"doit\", \"contre\", \"depuis\", \"autres\",\n",
    "       \"enfin\", \"van\", \"pr\", \"A\", \"F\", \"MN\", \"bon\", \"d'une\", \"k\", \"plat\", \"trè\", \"voir\",\n",
    "       \"ver\", \"but\", \"parti\", \"car\", \"rien\", \"fin\", \"fr\", \"E\", \"A\", \"là\", \"fin\", \"li\", \n",
    "       \"lu\", \"ni\", \"c'est\", \"etc\", \"sc\", \"déjà\", \"pt\", \"celui\", \"jour\", \"vue\", \"pay\", \n",
    "       \"plusieurs\", \"jeu\", \"part\", \"ensuite\", \"place\" \"1/2\", \"mn\", \"les\", \"plus\", \"cette\", \"fait\", \"faire\", \"être\", \"deux\", \"comme\", \"dont\", \"tout\",\n",
    "       \"ils\", \"bien\", \"sans\", \"peut\", \"tous\", \"après\", \"ainsi\", \"donc\", \"cet\", \"sous\",\n",
    "       \"celle\", \"entre\", \"encore\", \"toutes\", \"pendant\", \"moins\", \"dire\", \"cela\", \"non\",\n",
    "       \"faut\", \"trois\", \"aussi\", \"dit\", \"avoir\", \"doit\", \"contre\", \"depuis\", \"autres\", \"pr\", \"ag\", \"ecr\", \"1.\", \"3/4\", \"1/4\", \"2\", \"3.\", \"dem\", \"fem\"]\n",
    "sw = set(sw)\n"
   ]
  },
  {
   "cell_type": "code",
   "execution_count": 3,
   "metadata": {},
   "outputs": [],
   "source": [
    "# Lister les Fichiers\n",
    "data_path = \"../data/txteconomique/\"\n",
    "files = os.listdir(data_path)"
   ]
  },
  {
   "cell_type": "code",
   "execution_count": null,
   "metadata": {},
   "outputs": [],
   "source": [
    "# Imprimer le nombre de fichiers identifiés\n",
    "len(files)"
   ]
  },
  {
   "cell_type": "code",
   "execution_count": null,
   "metadata": {},
   "outputs": [],
   "source": [
    "# Lister les fichiers pour l'année 1945\n",
    "files_1945= [file for file in files if \"1945\" in file]\n",
    "len(files_1945)  # Vérifier combien de fichiers correspondent à 1925\n"
   ]
  },
  {
   "cell_type": "code",
   "execution_count": null,
   "metadata": {},
   "outputs": [],
   "source": [
    "\n",
    "\n",
    "\n",
    "        \n",
    "\n",
    "\n",
    "\n",
    "\n",
    "\n",
    "# Création d'une liste pour tous les mots-clés de 1945\n",
    "all_keywords_corpus = []\n",
    "\n",
    "# Extraction des mots-clés pour chaque document dans le corpus\n",
    "for f in sorted(files):\n",
    "    text = open(os.path.join(data_path, f), 'r', encoding=\"utf-8\").read()\n",
    "    keywords = kw_extractor.extract_keywords(text)\n",
    "    kept = []\n",
    "    for kw, score in keywords:\n",
    "        words = kw.split()\n",
    "        if len(words) == 2:  # ou ajustez selon vos critères de sélection\n",
    "            kept.append(kw)\n",
    "            all_keywords_corpus.append((kw, score))\n",
    "    print(f\"{f} mentions these keywords: {', '.join(kept)}...\")\n",
    "\n",
    "# Tri des mots-clés par score (décroissant)\n",
    "all_keywords_corpus.sort(key=lambda x: x[1], reverse=True)\n",
    "\n",
    "# Écriture des mots-clés dans un fichier TXT\n",
    "with open('keywords_corpus.txt', 'w', encoding='utf-8') as txtfile:\n",
    "    for kw, score in all_keywords_corpus:\n",
    "        txtfile.write(f\"{kw}: {score}\\n\")"
   ]
  }
 ],
 "metadata": {
  "kernelspec": {
   "display_name": "Python 3.10.5 ('tac_venv': venv)",
   "language": "python",
   "name": "python3"
  },
  "language_info": {
   "codemirror_mode": {
    "name": "ipython",
    "version": 3
   },
   "file_extension": ".py",
   "mimetype": "text/x-python",
   "name": "python",
   "nbconvert_exporter": "python",
   "pygments_lexer": "ipython3",
   "version": "3.11.6"
  },
  "vscode": {
   "interpreter": {
    "hash": "b1932ab1d169b4769d1550e799423b6477588e745f266d79d9004c136c81607e"
   }
  }
 },
 "nbformat": 4,
 "nbformat_minor": 4
}
