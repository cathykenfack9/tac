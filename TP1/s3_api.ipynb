{
 "cells": [
  {
   "cell_type": "markdown",
   "metadata": {},
   "source": [
    "# APIs: requêtes HTTP"
   ]
  },
  {
   "cell_type": "markdown",
   "metadata": {},
   "source": [
    "## Imports"
   ]
  },
  {
   "cell_type": "code",
   "execution_count": 3,
   "metadata": {},
   "outputs": [],
   "source": [
    "import json\n",
    "import requests"
   ]
  },
  {
   "cell_type": "markdown",
   "metadata": {},
   "source": [
    "## Utiliser [NEW API](https://newsapi.org/v2/top-headlines/)  affichera les titres et les descriptions des articles les plus récents pour la Belgique"
   ]
  },
  {
   "cell_type": "code",
   "execution_count": 4,
   "metadata": {},
   "outputs": [
    {
     "name": "stdout",
     "output_type": "stream",
     "text": [
      "Le grand test des marques : les meilleurs achats pour ne pas perdre la boule… de Berlin (COMPARATIF) - DH Les Sports +\n",
      "None\n",
      "------\n",
      "\n",
      "Démission de Vincent Van Quickenborne : le Roi reçoit Paul Van Tigchelt (ex-OCAM), qui devient ministre de la justice - RTBF\n",
      "None\n",
      "------\n",
      "\n",
      "Foire du livre de Francfort: une nouvelle génération d'éditeurs belges se frotte à l'export - Le Soir\n",
      "None\n",
      "------\n",
      "\n",
      "L'ancienne présidente de l'Open VLD, Gwendolyn Rutten, quitte la politique nationale - Le Soir\n",
      "None\n",
      "------\n",
      "\n",
      "Plus de 10 000 participants à la manifestation de soutien à Gaza dimanche à Bruxelles (IMAGES) - lalibre.be\n",
      "None\n",
      "------\n",
      "\n",
      "Coupe du monde de rugby : un joueur anglais accuse un joueur sud-africain de l'avoir insulté sur sa couleur de peau en plein match - Sudinfo.be\n",
      "None\n",
      "------\n",
      "\n",
      "Conner Rousseau en faveur des visites domiciliaires comme outil pour la justice - 7sur7\n",
      "None\n",
      "------\n",
      "\n",
      "La disparation d’une légende : les 9 choses à savoir sur Sir Bobby Charlton - DH Les Sports +\n",
      "None\n",
      "------\n",
      "\n",
      "La prétendue maîtresse de David Beckham réagit au documentaire Netflix: “Il a fait souffrir Victoria, pas moi” - 7sur7\n",
      "None\n",
      "------\n",
      "\n",
      "Incendie mortel à Auvelais: une personne décède et une autre est grièvement blessée - RTL info\n",
      "None\n",
      "------\n",
      "\n",
      "Un pistolet-mitrailleur et des vidéos de propagande djihadistes auraient été retrouvés lors d'une perquisition à Molenbeek ! - Sudinfo.be\n",
      "None\n",
      "------\n",
      "\n",
      "Guerre Israël - Gaza : le poste frontière de Rafah fermé à nouveau après le passage d'un premier convoi de 20 camions - RTBF\n",
      "None\n",
      "------\n",
      "\n",
      "Femmes enceintes et hippocampes : expériences comparables ? - rtbf.be - RTBF\n",
      "None\n",
      "------\n",
      "\n",
      "Un motard quadragénaire a perdu la vie dans le zoning des Cahottes à Flémalle ce samedi soir - Sudinfo.be\n",
      "None\n",
      "------\n",
      "\n",
      "Vaccination contre la grippe : \"On vaccine une dizaine de personnes par jour\" explique une pharmacienne - France Bleu\n",
      "None\n",
      "------\n",
      "\n",
      "L’actrice belge Emilie Dequenne annonce se battre contre un cancer rare : “Je serai un peu absente” - lalibre.be\n",
      "None\n",
      "------\n",
      "\n",
      "Verstappen : Le Sprint F1 enlève la magie du dimanche - Nextgen-Auto.com\n",
      "None\n",
      "------\n",
      "\n",
      "La minute historique : en 1964, Heineken voulait transformer ses bouteilles en briques pour construire des maisons en verre - RTBF\n",
      "None\n",
      "------\n",
      "\n",
      "Manger ce fruit tous les jours permettrait d'améliorer la vue - Max\n",
      "None\n",
      "------\n",
      "\n",
      "Conflit israélo-palestinien : l'armée israélienne affirme avoir touché \"par erreur\" une position égyptienne... - lalibre.be\n",
      "None\n",
      "------\n",
      "\n"
     ]
    }
   ],
   "source": [
    "import requests\n",
    "\n",
    "API_ENDPOINT = \"https://newsapi.org/v2/top-headlines\"\n",
    "API_KEY = \"155405b9a3b042b18b528d8cf6bccdb6\"  \n",
    "COUNTRY = \"be\"  # Code pour la Belgique\n",
    "\n",
    "def fetch_news(api_key, country):\n",
    "    params = {\n",
    "        \"country\": country,\n",
    "        \"apiKey\": api_key,\n",
    "    }\n",
    "    \n",
    "    response = requests.get(API_ENDPOINT, params=params)\n",
    "    \n",
    "    if response.status_code == 200:\n",
    "        return response.json()\n",
    "    else:\n",
    "        return None\n",
    "\n",
    "news = fetch_news(API_KEY, COUNTRY)\n",
    "\n",
    "if news and news[\"status\"] == \"ok\":\n",
    "    for article in news[\"articles\"]:\n",
    "        print(article[\"title\"])\n",
    "        print(article[\"description\"])\n",
    "        print(\"------\\n\")\n",
    "else:\n",
    "    print(\"Erreur lors de la récupération des nouvelles.\")\n",
    "\n"
   ]
  }
 ],
 "metadata": {
  "kernelspec": {
   "display_name": "Python 3.10.5 ('tac_venv': venv)",
   "language": "python",
   "name": "python3"
  },
  "language_info": {
   "codemirror_mode": {
    "name": "ipython",
    "version": 3
   },
   "file_extension": ".py",
   "mimetype": "text/x-python",
   "name": "python",
   "nbconvert_exporter": "python",
   "pygments_lexer": "ipython3",
   "version": "3.11.6"
  },
  "vscode": {
   "interpreter": {
    "hash": "b1932ab1d169b4769d1550e799423b6477588e745f266d79d9004c136c81607e"
   }
  }
 },
 "nbformat": 4,
 "nbformat_minor": 4
}
