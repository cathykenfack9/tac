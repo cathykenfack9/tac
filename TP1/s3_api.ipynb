{
 "cells": [
  {
   "cell_type": "markdown",
   "metadata": {},
   "source": [
    "# APIs: requêtes HTTP"
   ]
  },
  {
   "cell_type": "markdown",
   "metadata": {},
   "source": [
    "## Imports"
   ]
  },
  {
   "cell_type": "code",
   "execution_count": 1,
   "metadata": {},
   "outputs": [],
   "source": [
    "import json\n",
    "import requests"
   ]
  },
  {
   "cell_type": "markdown",
   "metadata": {},
   "source": [
    "## Utiliser [API FOOTBALL](https://api-football-v1.p.rapidapi.com/) pour obtenir des scores en direct, des statistiques de joueurs et des prédictions "
   ]
  },
  {
   "cell_type": "code",
   "execution_count": null,
   "metadata": {},
   "outputs": [],
   "source": [
    "import requests\n",
    "\n",
    "class FootballAPI:\n",
    "    def __init__(self, api_key):\n",
    "        self.api_key = api_key\n",
    "        self.base_url = \"https://api-football-v1.p.rapidapi.com/v3/\"\n",
    "        self.headers = {\n",
    "            'x-rapidapi-key': self.api_key,\n",
    "            'x-rapidapi-host': \"api-football-v1.p.rapidapi.com\"\n",
    "        }\n",
    "\n",
    "    def get_live_scores(self):\n",
    "        endpoint = \"fixtures/live\"\n",
    "        url = self.base_url + endpoint\n",
    "        response = requests.get(url, headers=self.headers)\n",
    "        data = response.json()\n",
    "        return data['response']\n",
    "\n",
    "    def get_player_statistics(self, player_id):\n",
    "        endpoint = f\"players/{player_id}\"\n",
    "        url = self.base_url + endpoint\n",
    "        response = requests.get(url, headers=self.headers)\n",
    "        data = response.json()\n",
    "        return data['response']\n",
    "\n",
    "    def get_match_predictions(self, fixture_id):\n",
    "        endpoint = f\"predictions/{fixture_id}\"\n",
    "        url = self.base_url + endpoint\n",
    "        response = requests.get(url, headers=self.headers)\n",
    "        data = response.json()\n",
    "        return data['response']\n",
    "\n",
    "# Utilisation :\n",
    "api_key = \"YOUR_RAPIDAPI_KEY\"  # Remplacez par votre clé d'API\n",
    "football_api = FootballAPI(api_key)\n",
    "\n",
    "live_scores = football_api.get_live_scores()\n",
    "print(\"Scores en direct:\", live_scores)\n",
    "\n",
    "# Pour obtenir des statistiques pour un joueur spécifique (remplacez 'player_id' par l'ID du joueur) :\n",
    "player_stats = football_api.get_player_statistics(player_id=1234)\n",
    "print(\"Statistiques du joueur:\", player_stats)\n",
    "\n",
    "# Pour obtenir des prédictions pour un match spécifique (remplacez 'fixture_id' par l'ID du match) :\n",
    "match_predictions = football_api.get_match_predictions(fixture_id=5678)\n",
    "print(\"Prédictions du match:\", match_predictions)\n"
   ]
  },
  {
   "cell_type": "markdown",
   "metadata": {},
   "source": [
    "## Utiliser REST Countries pour récupérer des informations sur un pays"
   ]
  },
  {
   "cell_type": "markdown",
   "metadata": {},
   "source": [
    "https://restcountries.com/"
   ]
  },
  {
   "cell_type": "code",
   "execution_count": 2,
   "metadata": {},
   "outputs": [
    {
     "name": "stdout",
     "output_type": "stream",
     "text": [
      "Languages: German, French, Dutch\n",
      "Borders: France, Germany, Luxembourg, Netherlands\n"
     ]
    }
   ],
   "source": [
    "country_name = \"Belgium\"\n",
    "\n",
    "base_url = \"http://restcountries.com/v3.1/\"\n",
    "name_url = base_url + \"name/\"\n",
    "code_url = base_url + \"alpha/\"\n",
    "resp = requests.get(name_url + country_name)\n",
    "country = resp.json()[0]\n",
    "try:\n",
    "    languages = country['languages']\n",
    "    print(f\"Languages: {', '.join(languages.values())}\")\n",
    "    border_codes = country['borders']\n",
    "    border_names = []\n",
    "    for code in border_codes:\n",
    "        resp = requests.get(code_url + code)\n",
    "        border_country = resp.json()[0]\n",
    "        border_name = border_country[\"name\"][\"common\"]\n",
    "        border_names.append(border_name)\n",
    "    print(f\"Borders: {', '.join(border_names)}\")\n",
    "except KeyError:\n",
    "    print(\"Unknown country, please use English or native name\")"
   ]
  },
  {
   "cell_type": "markdown",
   "metadata": {},
   "source": [
    "## Pour en savoir plus"
   ]
  },
  {
   "cell_type": "markdown",
   "metadata": {},
   "source": [
    "- Les API Rest: https://towardsdatascience.com/introduction-to-rest-apis-90b5d9676004\n",
    "- La librairie [`requests`](https://requests.readthedocs.io/en/latest/)\n",
    "- Développer une API en Python : https://openclassrooms.com/en/courses/4525361-realisez-un-dashboard-avec-tableau/5774811-creez-une-api-avec-flask"
   ]
  }
 ],
 "metadata": {
  "kernelspec": {
   "display_name": "Python 3.10.5 ('tac_venv': venv)",
   "language": "python",
   "name": "python3"
  },
  "language_info": {
   "codemirror_mode": {
    "name": "ipython",
    "version": 3
   },
   "file_extension": ".py",
   "mimetype": "text/x-python",
   "name": "python",
   "nbconvert_exporter": "python",
   "pygments_lexer": "ipython3",
   "version": "3.11.6"
  },
  "vscode": {
   "interpreter": {
    "hash": "b1932ab1d169b4769d1550e799423b6477588e745f266d79d9004c136c81607e"
   }
  }
 },
 "nbformat": 4,
 "nbformat_minor": 4
}
