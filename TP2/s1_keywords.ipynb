{
 "cells": [
  {
   "cell_type": "markdown",
   "metadata": {},
   "source": [
    "# Extraction de Keywords"
   ]
  },
  {
   "cell_type": "markdown",
   "metadata": {},
   "source": [
    "## Imports"
   ]
  },
  {
   "cell_type": "code",
   "execution_count": 6,
   "metadata": {},
   "outputs": [],
   "source": [
    "import os\n",
    "import yake"
   ]
  },
  {
   "cell_type": "markdown",
   "metadata": {},
   "source": [
    "## Extraire les mots clés de l'année 1925 du corpus"
   ]
  },
  {
   "cell_type": "code",
   "execution_count": null,
   "metadata": {},
   "outputs": [],
   "source": [
    "#extraction  de mots clés\n",
    "kw_extractor = yake.KeywordExtractor(lan=\"fr\", top=50)\n",
    "kw_extractor"
   ]
  },
  {
   "cell_type": "code",
   "execution_count": 7,
   "metadata": {},
   "outputs": [],
   "source": [
    "# Lister les Fichiers\n",
    "data_path = \"../data/txt/\"\n",
    "files = os.listdir(data_path)"
   ]
  },
  {
   "cell_type": "code",
   "execution_count": null,
   "metadata": {},
   "outputs": [],
   "source": [
    "# Imprimer le nombre de fichiers identifiés\n",
    "len(files)"
   ]
  },
  {
   "cell_type": "code",
   "execution_count": null,
   "metadata": {},
   "outputs": [],
   "source": [
    "# Lister les fichiers pour l'année 1925\n",
    "files_1925= [file for file in files if \"1925\" in file]\n",
    "len(files_1925)  # Vérifier combien de fichiers correspondent à 1925\n"
   ]
  },
  {
   "cell_type": "code",
   "execution_count": null,
   "metadata": {},
   "outputs": [],
   "source": [
    "# Création d'une liste pour tous les mots-clés de 1925\n",
    "all_keywords_1925 = []\n",
    "\n",
    "# Faire la même opération sur tous les documents de l'année 1925\n",
    "for f in sorted(files_1925):\n",
    "    text = open(os.path.join(data_path, f), 'r', encoding=\"utf-8\").read()\n",
    "    keywords = kw_extractor.extract_keywords(text)\n",
    "    kept = []\n",
    "    for kw, score in keywords:\n",
    "        words = kw.split()\n",
    "        if len(words) == 2:\n",
    "            kept.append(kw)\n",
    "            all_keywords_1925.append((kw, score))\n",
    "    print(f\"{f} mentions these keywords: {', '.join(kept)}...\")\n",
    "\n",
    "# Si nécessaire, triez et enregistrez les mots-clés et leur score dans un fichier CSV pour analyse\n",
    "import csv\n",
    "\n",
    "# Sort keywords by score (ascending)\n",
    "all_keywords_1925.sort(key=lambda x: x[1])\n",
    "\n",
    "# Write keywords to CSV\n",
    "with open('keywords_1925.csv', 'w', newline='', encoding='utf-8') as csvfile:\n",
    "    keyword_writer = csv.writer(csvfile, delimiter=',')\n",
    "    keyword_writer.writerow(['Keyword', 'Score'])  # Writing header\n",
    "    for kw, score in all_keywords_1925:\n",
    "        keyword_writer.writerow([kw, score])\n"
   ]
  }
 ],
 "metadata": {
  "kernelspec": {
   "display_name": "Python 3.10.5 ('tac_venv': venv)",
   "language": "python",
   "name": "python3"
  },
  "language_info": {
   "codemirror_mode": {
    "name": "ipython",
    "version": 3
   },
   "file_extension": ".py",
   "mimetype": "text/x-python",
   "name": "python",
   "nbconvert_exporter": "python",
   "pygments_lexer": "ipython3",
   "version": "3.11.6"
  },
  "vscode": {
   "interpreter": {
    "hash": "b1932ab1d169b4769d1550e799423b6477588e745f266d79d9004c136c81607e"
   }
  }
 },
 "nbformat": 4,
 "nbformat_minor": 4
}
