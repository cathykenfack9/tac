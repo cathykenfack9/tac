{
 "cells": [
  {
   "cell_type": "markdown",
   "metadata": {},
   "source": [
    "# Sentiment analysis \n",
    "\n",
    "## 1. Textblob-FR\n",
    "\n",
    "Documentation: https://textblob.readthedocs.io/en/dev/\n",
    "\n",
    "### Imports"
   ]
  },
  {
   "cell_type": "code",
   "execution_count": 12,
   "metadata": {},
   "outputs": [],
   "source": [
    "import sys\n",
    "from textblob import Blobber\n",
    "from textblob_fr import PatternTagger, PatternAnalyzer"
   ]
  },
  {
   "cell_type": "markdown",
   "metadata": {},
   "source": [
    "### Création d'une fonction `get_sentiment`"
   ]
  },
  {
   "cell_type": "code",
   "execution_count": 13,
   "metadata": {},
   "outputs": [],
   "source": [
    "tb = Blobber(pos_tagger=PatternTagger(), analyzer=PatternAnalyzer())\n",
    "\n",
    "def get_sentiment(input_text):\n",
    "    blob = tb(input_text)\n",
    "    polarity, subjectivity = blob.sentiment\n",
    "    polarity_perc = f\"{100*abs(polarity):.0f}\"\n",
    "    subjectivity_perc = f\"{100*subjectivity:.0f}\"\n",
    "    if polarity > 0:\n",
    "        polarity_str = f\"{polarity_perc}% positive\"\n",
    "    elif polarity < 0:\n",
    "        polarity_str = f\"{polarity_perc}% negative\"\n",
    "    else:\n",
    "        polarity_str = \"neutral\"\n",
    "    if subjectivity > 0:\n",
    "        subjectivity_str = f\"{subjectivity}% subjective\"\n",
    "    else:\n",
    "        subjectivity_str = \"perfectly objective\"\n",
    "    print(f\"This text is {polarity_str} and {subjectivity_str}.\")"
   ]
  },
  {
   "cell_type": "markdown",
   "metadata": {},
   "source": [
    "### Analyser le sentiment d'une phrase"
   ]
  },
  {
   "cell_type": "code",
   "execution_count": 14,
   "metadata": {
    "tags": []
   },
   "outputs": [
    {
     "name": "stdout",
     "output_type": "stream",
     "text": [
      "This text is neutral and perfectly objective.\n",
      "Phrase: Le notaire DE COOK adjugera, le jeudi 30 avril 1925, à Woluwe-Saint-Lambert, un lieu empreint de sérénité et d'histoire\n",
      "Sentiment: None\n",
      "\n",
      "This text is neutral and perfectly objective.\n",
      "Phrase: Trois maisons avec jardin s'offrent, promettant un havre de paix à leurs futurs occupants\n",
      "Sentiment: None\n",
      "\n",
      "This text is 16% positive and 0.25% subjective.\n",
      "Phrase: La vente offre une opportunité rare de résider dans la commune prisée de Woluwé-Saint-Lambert\n",
      "Sentiment: None\n",
      "\n",
      "This text is 25% positive and 0.5% subjective.\n",
      "Phrase: Ces propriétés avec jardin invitent à la rêverie et à la contemplation de la nature\n",
      "Sentiment: None\n",
      "\n",
      "This text is 10% positive and 0.375% subjective.\n",
      "Phrase: Une maison de rentier, garantissant un investissement sûr et un rendement stable, est mise en lumière\n",
      "Sentiment: None\n",
      "\n",
      "This text is 80% positive and 0.8% subjective.\n",
      "Phrase: L'annonce d'une belle maison de commerce avec annexe et jardin suscite enthousiasme et anticipation\n",
      "Sentiment: None\n",
      "\n",
      "This text is neutral and perfectly objective.\n",
      "Phrase: La villa à vendre à Ostende promet une évasion côtière et des vues imprenables sur la mer\n",
      "Sentiment: None\n",
      "\n",
      "This text is neutral and perfectly objective.\n",
      "Phrase: La mise à prix de la 'VILLA CORONA' est un appel à la détente au bord de la mer\n",
      "Sentiment: None\n",
      "\n",
      "This text is neutral and perfectly objective.\n",
      "Phrase: Le charme indéniable de la propriété sise chemin du Vogelsang offre un cadre idyllique pour une vie harmonieuse\n",
      "Sentiment: None\n",
      "\n",
      "This text is 37% positive and 0.26666666666666666% subjective.\n",
      "Phrase: L'adjudication définitive d'une belle maison de rentier représente une occasion en or d'acquérir un bijou architectural\n",
      "Sentiment: None\n",
      "\n"
     ]
    }
   ],
   "source": [
    "phrases = [\n",
    "    \"Le notaire DE COOK adjugera, le jeudi 30 avril 1925, à Woluwe-Saint-Lambert, un lieu empreint de sérénité et d'histoire\",\n",
    "    \"Trois maisons avec jardin s'offrent, promettant un havre de paix à leurs futurs occupants\",\n",
    "    \"La vente offre une opportunité rare de résider dans la commune prisée de Woluwé-Saint-Lambert\",\n",
    "   \"Ces propriétés avec jardin invitent à la rêverie et à la contemplation de la nature\",\n",
    "    \"Une maison de rentier, garantissant un investissement sûr et un rendement stable, est mise en lumière\",\n",
    "    \"L'annonce d'une belle maison de commerce avec annexe et jardin suscite enthousiasme et anticipation\",\n",
    "   \"La villa à vendre à Ostende promet une évasion côtière et des vues imprenables sur la mer\",\n",
    "    \"La mise à prix de la 'VILLA CORONA' est un appel à la détente au bord de la mer\",\n",
    "   \"Le charme indéniable de la propriété sise chemin du Vogelsang offre un cadre idyllique pour une vie harmonieuse\",\n",
    "    \"L'adjudication définitive d'une belle maison de rentier représente une occasion en or d'acquérir un bijou architectural\"\n",
    "]\n",
    "\n",
    "# Appliquer la fonction get_sentiment à chaque phrase et imprimer les résultats\n",
    "for phrase in phrases:\n",
    "    sentiment_result = get_sentiment(phrase)\n",
    "    print(f\"Phrase: {phrase}\\nSentiment: {sentiment_result}\\n\")"
   ]
  },
  {
   "cell_type": "code",
   "execution_count": 16,
   "metadata": {
    "tags": []
   },
   "outputs": [
    {
     "name": "stdout",
     "output_type": "stream",
     "text": [
      "Phrase: Le notaire DE COOK adjugera, le jeudi 30 avril 1925, à Woluwe-Saint-Lambert, un lieu empreint de sérénité et d'histoire, Polarité: 0.0, Subjectivité: 0.0\n",
      "Phrase: Trois maisons avec jardin s'offrent, promettant un havre de paix à leurs futurs occupants, Polarité: 0.0, Subjectivité: 0.0\n",
      "Phrase: La vente offre une opportunité rare de résider dans la commune prisée de Woluwé-Saint-Lambert, Polarité: 0.165, Subjectivité: 0.25\n",
      "Phrase: Ces propriétés avec jardin invitent à la rêverie et à la contemplation de la nature, Polarité: 0.25, Subjectivité: 0.5\n",
      "Phrase: Une maison de rentier, garantissant un investissement sûr et un rendement stable, est mise en lumière, Polarité: 0.095, Subjectivité: 0.375\n",
      "Phrase: L'annonce d'une belle maison de commerce avec annexe et jardin suscite enthousiasme et anticipation, Polarité: 0.8, Subjectivité: 0.8\n",
      "Phrase: La villa à vendre à Ostende promet une évasion côtière et des vues imprenables sur la mer, Polarité: 0.0, Subjectivité: 0.0\n",
      "Phrase: La mise à prix de la 'VILLA CORONA' est un appel à la détente au bord de la mer, Polarité: 0.0, Subjectivité: 0.0\n",
      "Phrase: Le charme indéniable de la propriété sise chemin du Vogelsang offre un cadre idyllique pour une vie harmonieuse, Polarité: 0.0, Subjectivité: 0.0\n",
      "Phrase: L'adjudication définitive d'une belle maison de rentier représente une occasion en or d'acquérir un bijou architectural, Polarité: 0.3666666666666667, Subjectivité: 0.26666666666666666\n"
     ]
    }
   ],
   "source": [
    "from textblob import TextBlob\n",
    "from textblob_fr import PatternTagger, PatternAnalyzer\n",
    "\n",
    "# Création du tableau de résultats\n",
    "results = []\n",
    "\n",
    "for phrase in phrases:\n",
    "    blob = TextBlob(phrase, pos_tagger=PatternTagger(), analyzer=PatternAnalyzer())\n",
    "    sentiment = blob.sentiment\n",
    "    results.append({\n",
    "        'Phrase': phrase,\n",
    "        'Polarité': sentiment[0],\n",
    "        'Subjectivité': sentiment[1]\n",
    "    })\n",
    "\n",
    "\n",
    "\n",
    "# Affichage des résultats\n",
    "for result in results:\n",
    "    print(f\"Phrase: {result['Phrase']}, Polarité: {result['Polarité']}, Subjectivité: {result['Subjectivité']}\")"
   ]
  },
  {
   "cell_type": "markdown",
   "metadata": {},
   "source": [
    "## 2. Utilisation de transformers\n",
    "\n",
    "Documentation: https://github.com/TheophileBlard/french-sentiment-analysis-with-bert\n",
    "\n",
    "**!!** Si le code ne tourne pas sur votre machine, vous pouvez le tester directement sur Google Colab en utilisant [ce lien](https://colab.research.google.com/github/TheophileBlard/french-sentiment-analysis-with-bert/blob/master/colab/french_sentiment_analysis_with_bert.ipynb) **!!**\n",
    "\n",
    "Le modèle peut également être testé en ligne sur [HuggingFace](https://huggingface.co/tblard/tf-allocine)\n",
    "\n",
    "### Installation des librairies et imports"
   ]
  },
  {
   "cell_type": "code",
   "execution_count": 17,
   "metadata": {},
   "outputs": [
    {
     "name": "stdout",
     "output_type": "stream",
     "text": [
      "Requirement already satisfied: tensorflow in c:\\users\\cathy metango\\tac\\tac_venv\\lib\\site-packages (2.14.0)"
     ]
    },
    {
     "name": "stderr",
     "output_type": "stream",
     "text": [
      "DEPRECATION: textract 1.6.5 has a non-standard dependency specifier extract-msg<=0.29.*. pip 23.3 will enforce this behaviour change. A possible replacement is to upgrade to a newer version of textract or contact the author to suggest that they release a version with a conforming dependency specifiers. Discussion can be found at https://github.com/pypa/pip/issues/12063\n",
      "\n",
      "[notice] A new release of pip is available: 23.2.1 -> 23.3.1\n",
      "[notice] To update, run: python.exe -m pip install --upgrade pip\n"
     ]
    },
    {
     "name": "stdout",
     "output_type": "stream",
     "text": [
      "\n",
      "Requirement already satisfied: tensorflow-intel==2.14.0 in c:\\users\\cathy metango\\tac\\tac_venv\\lib\\site-packages (from tensorflow) (2.14.0)\n",
      "Requirement already satisfied: absl-py>=1.0.0 in c:\\users\\cathy metango\\tac\\tac_venv\\lib\\site-packages (from tensorflow-intel==2.14.0->tensorflow) (2.0.0)\n",
      "Requirement already satisfied: astunparse>=1.6.0 in c:\\users\\cathy metango\\tac\\tac_venv\\lib\\site-packages (from tensorflow-intel==2.14.0->tensorflow) (1.6.3)\n",
      "Requirement already satisfied: flatbuffers>=23.5.26 in c:\\users\\cathy metango\\tac\\tac_venv\\lib\\site-packages (from tensorflow-intel==2.14.0->tensorflow) (23.5.26)\n",
      "Requirement already satisfied: gast!=0.5.0,!=0.5.1,!=0.5.2,>=0.2.1 in c:\\users\\cathy metango\\tac\\tac_venv\\lib\\site-packages (from tensorflow-intel==2.14.0->tensorflow) (0.5.4)\n",
      "Requirement already satisfied: google-pasta>=0.1.1 in c:\\users\\cathy metango\\tac\\tac_venv\\lib\\site-packages (from tensorflow-intel==2.14.0->tensorflow) (0.2.0)\n",
      "Requirement already satisfied: h5py>=2.9.0 in c:\\users\\cathy metango\\tac\\tac_venv\\lib\\site-packages (from tensorflow-intel==2.14.0->tensorflow) (3.10.0)\n",
      "Requirement already satisfied: libclang>=13.0.0 in c:\\users\\cathy metango\\tac\\tac_venv\\lib\\site-packages (from tensorflow-intel==2.14.0->tensorflow) (16.0.6)\n",
      "Requirement already satisfied: ml-dtypes==0.2.0 in c:\\users\\cathy metango\\tac\\tac_venv\\lib\\site-packages (from tensorflow-intel==2.14.0->tensorflow) (0.2.0)\n",
      "Requirement already satisfied: numpy>=1.23.5 in c:\\users\\cathy metango\\tac\\tac_venv\\lib\\site-packages (from tensorflow-intel==2.14.0->tensorflow) (1.26.0)\n",
      "Requirement already satisfied: opt-einsum>=2.3.2 in c:\\users\\cathy metango\\tac\\tac_venv\\lib\\site-packages (from tensorflow-intel==2.14.0->tensorflow) (3.3.0)\n",
      "Requirement already satisfied: packaging in c:\\users\\cathy metango\\tac\\tac_venv\\lib\\site-packages (from tensorflow-intel==2.14.0->tensorflow) (23.2)\n",
      "Requirement already satisfied: protobuf!=4.21.0,!=4.21.1,!=4.21.2,!=4.21.3,!=4.21.4,!=4.21.5,<5.0.0dev,>=3.20.3 in c:\\users\\cathy metango\\tac\\tac_venv\\lib\\site-packages (from tensorflow-intel==2.14.0->tensorflow) (4.25.0)\n",
      "Requirement already satisfied: setuptools in c:\\users\\cathy metango\\tac\\tac_venv\\lib\\site-packages (from tensorflow-intel==2.14.0->tensorflow) (68.2.0)\n",
      "Requirement already satisfied: six>=1.12.0 in c:\\users\\cathy metango\\tac\\tac_venv\\lib\\site-packages (from tensorflow-intel==2.14.0->tensorflow) (1.12.0)\n",
      "Requirement already satisfied: termcolor>=1.1.0 in c:\\users\\cathy metango\\tac\\tac_venv\\lib\\site-packages (from tensorflow-intel==2.14.0->tensorflow) (2.3.0)\n",
      "Requirement already satisfied: typing-extensions>=3.6.6 in c:\\users\\cathy metango\\tac\\tac_venv\\lib\\site-packages (from tensorflow-intel==2.14.0->tensorflow) (4.8.0)\n",
      "Requirement already satisfied: wrapt<1.15,>=1.11.0 in c:\\users\\cathy metango\\tac\\tac_venv\\lib\\site-packages (from tensorflow-intel==2.14.0->tensorflow) (1.14.1)\n",
      "Requirement already satisfied: tensorflow-io-gcs-filesystem>=0.23.1 in c:\\users\\cathy metango\\tac\\tac_venv\\lib\\site-packages (from tensorflow-intel==2.14.0->tensorflow) (0.31.0)\n",
      "Requirement already satisfied: grpcio<2.0,>=1.24.3 in c:\\users\\cathy metango\\tac\\tac_venv\\lib\\site-packages (from tensorflow-intel==2.14.0->tensorflow) (1.59.2)\n",
      "Requirement already satisfied: tensorboard<2.15,>=2.14 in c:\\users\\cathy metango\\tac\\tac_venv\\lib\\site-packages (from tensorflow-intel==2.14.0->tensorflow) (2.14.1)\n",
      "Requirement already satisfied: tensorflow-estimator<2.15,>=2.14.0 in c:\\users\\cathy metango\\tac\\tac_venv\\lib\\site-packages (from tensorflow-intel==2.14.0->tensorflow) (2.14.0)\n",
      "Requirement already satisfied: keras<2.15,>=2.14.0 in c:\\users\\cathy metango\\tac\\tac_venv\\lib\\site-packages (from tensorflow-intel==2.14.0->tensorflow) (2.14.0)\n",
      "Requirement already satisfied: wheel<1.0,>=0.23.0 in c:\\users\\cathy metango\\tac\\tac_venv\\lib\\site-packages (from astunparse>=1.6.0->tensorflow-intel==2.14.0->tensorflow) (0.41.2)\n",
      "Requirement already satisfied: google-auth<3,>=1.6.3 in c:\\users\\cathy metango\\tac\\tac_venv\\lib\\site-packages (from tensorboard<2.15,>=2.14->tensorflow-intel==2.14.0->tensorflow) (2.23.4)\n",
      "Requirement already satisfied: google-auth-oauthlib<1.1,>=0.5 in c:\\users\\cathy metango\\tac\\tac_venv\\lib\\site-packages (from tensorboard<2.15,>=2.14->tensorflow-intel==2.14.0->tensorflow) (1.0.0)\n",
      "Requirement already satisfied: markdown>=2.6.8 in c:\\users\\cathy metango\\tac\\tac_venv\\lib\\site-packages (from tensorboard<2.15,>=2.14->tensorflow-intel==2.14.0->tensorflow) (3.5.1)\n",
      "Requirement already satisfied: requests<3,>=2.21.0 in c:\\users\\cathy metango\\tac\\tac_venv\\lib\\site-packages (from tensorboard<2.15,>=2.14->tensorflow-intel==2.14.0->tensorflow) (2.31.0)\n",
      "Requirement already satisfied: tensorboard-data-server<0.8.0,>=0.7.0 in c:\\users\\cathy metango\\tac\\tac_venv\\lib\\site-packages (from tensorboard<2.15,>=2.14->tensorflow-intel==2.14.0->tensorflow) (0.7.2)\n",
      "Requirement already satisfied: werkzeug>=1.0.1 in c:\\users\\cathy metango\\tac\\tac_venv\\lib\\site-packages (from tensorboard<2.15,>=2.14->tensorflow-intel==2.14.0->tensorflow) (3.0.1)\n",
      "Requirement already satisfied: cachetools<6.0,>=2.0.0 in c:\\users\\cathy metango\\tac\\tac_venv\\lib\\site-packages (from google-auth<3,>=1.6.3->tensorboard<2.15,>=2.14->tensorflow-intel==2.14.0->tensorflow) (5.3.2)\n",
      "Requirement already satisfied: pyasn1-modules>=0.2.1 in c:\\users\\cathy metango\\tac\\tac_venv\\lib\\site-packages (from google-auth<3,>=1.6.3->tensorboard<2.15,>=2.14->tensorflow-intel==2.14.0->tensorflow) (0.3.0)\n",
      "Requirement already satisfied: rsa<5,>=3.1.4 in c:\\users\\cathy metango\\tac\\tac_venv\\lib\\site-packages (from google-auth<3,>=1.6.3->tensorboard<2.15,>=2.14->tensorflow-intel==2.14.0->tensorflow) (4.9)\n",
      "Requirement already satisfied: requests-oauthlib>=0.7.0 in c:\\users\\cathy metango\\tac\\tac_venv\\lib\\site-packages (from google-auth-oauthlib<1.1,>=0.5->tensorboard<2.15,>=2.14->tensorflow-intel==2.14.0->tensorflow) (1.3.1)\n",
      "Requirement already satisfied: charset-normalizer<4,>=2 in c:\\users\\cathy metango\\tac\\tac_venv\\lib\\site-packages (from requests<3,>=2.21.0->tensorboard<2.15,>=2.14->tensorflow-intel==2.14.0->tensorflow) (3.3.0)\n",
      "Requirement already satisfied: idna<4,>=2.5 in c:\\users\\cathy metango\\tac\\tac_venv\\lib\\site-packages (from requests<3,>=2.21.0->tensorboard<2.15,>=2.14->tensorflow-intel==2.14.0->tensorflow) (3.4)\n",
      "Requirement already satisfied: urllib3<3,>=1.21.1 in c:\\users\\cathy metango\\tac\\tac_venv\\lib\\site-packages (from requests<3,>=2.21.0->tensorboard<2.15,>=2.14->tensorflow-intel==2.14.0->tensorflow) (2.0.6)\n",
      "Requirement already satisfied: certifi>=2017.4.17 in c:\\users\\cathy metango\\tac\\tac_venv\\lib\\site-packages (from requests<3,>=2.21.0->tensorboard<2.15,>=2.14->tensorflow-intel==2.14.0->tensorflow) (2023.7.22)\n",
      "Requirement already satisfied: MarkupSafe>=2.1.1 in c:\\users\\cathy metango\\tac\\tac_venv\\lib\\site-packages (from werkzeug>=1.0.1->tensorboard<2.15,>=2.14->tensorflow-intel==2.14.0->tensorflow) (2.1.3)\n",
      "Requirement already satisfied: pyasn1<0.6.0,>=0.4.6 in c:\\users\\cathy metango\\tac\\tac_venv\\lib\\site-packages (from pyasn1-modules>=0.2.1->google-auth<3,>=1.6.3->tensorboard<2.15,>=2.14->tensorflow-intel==2.14.0->tensorflow) (0.5.0)\n",
      "Requirement already satisfied: oauthlib>=3.0.0 in c:\\users\\cathy metango\\tac\\tac_venv\\lib\\site-packages (from requests-oauthlib>=0.7.0->google-auth-oauthlib<1.1,>=0.5->tensorboard<2.15,>=2.14->tensorflow-intel==2.14.0->tensorflow) (3.2.2)\n",
      "Requirement already satisfied: sentencepiece in c:\\users\\cathy metango\\tac\\tac_venv\\lib\\site-packages (0.1.99)"
     ]
    },
    {
     "name": "stderr",
     "output_type": "stream",
     "text": [
      "DEPRECATION: textract 1.6.5 has a non-standard dependency specifier extract-msg<=0.29.*. pip 23.3 will enforce this behaviour change. A possible replacement is to upgrade to a newer version of textract or contact the author to suggest that they release a version with a conforming dependency specifiers. Discussion can be found at https://github.com/pypa/pip/issues/12063\n",
      "\n",
      "[notice] A new release of pip is available: 23.2.1 -> 23.3.1\n",
      "[notice] To update, run: python.exe -m pip install --upgrade pip\n"
     ]
    },
    {
     "name": "stdout",
     "output_type": "stream",
     "text": [
      "\n"
     ]
    },
    {
     "name": "stderr",
     "output_type": "stream",
     "text": [
      "DEPRECATION: textract 1.6.5 has a non-standard dependency specifier extract-msg<=0.29.*. pip 23.3 will enforce this behaviour change. A possible replacement is to upgrade to a newer version of textract or contact the author to suggest that they release a version with a conforming dependency specifiers. Discussion can be found at https://github.com/pypa/pip/issues/12063\n",
      "\n",
      "[notice] A new release of pip is available: 23.2.1 -> 23.3.1\n",
      "[notice] To update, run: python.exe -m pip install --upgrade pip\n"
     ]
    },
    {
     "name": "stdout",
     "output_type": "stream",
     "text": [
      "Requirement already satisfied: transformers in c:\\users\\cathy metango\\tac\\tac_venv\\lib\\site-packages (4.35.0)\n",
      "Requirement already satisfied: filelock in c:\\users\\cathy metango\\tac\\tac_venv\\lib\\site-packages (from transformers) (3.13.1)\n",
      "Requirement already satisfied: huggingface-hub<1.0,>=0.16.4 in c:\\users\\cathy metango\\tac\\tac_venv\\lib\\site-packages (from transformers) (0.17.3)\n",
      "Requirement already satisfied: numpy>=1.17 in c:\\users\\cathy metango\\tac\\tac_venv\\lib\\site-packages (from transformers) (1.26.0)\n",
      "Requirement already satisfied: packaging>=20.0 in c:\\users\\cathy metango\\tac\\tac_venv\\lib\\site-packages (from transformers) (23.2)\n",
      "Requirement already satisfied: pyyaml>=5.1 in c:\\users\\cathy metango\\tac\\tac_venv\\lib\\site-packages (from transformers) (6.0.1)\n",
      "Requirement already satisfied: regex!=2019.12.17 in c:\\users\\cathy metango\\tac\\tac_venv\\lib\\site-packages (from transformers) (2023.10.3)\n",
      "Requirement already satisfied: requests in c:\\users\\cathy metango\\tac\\tac_venv\\lib\\site-packages (from transformers) (2.31.0)\n",
      "Requirement already satisfied: tokenizers<0.15,>=0.14 in c:\\users\\cathy metango\\tac\\tac_venv\\lib\\site-packages (from transformers) (0.14.1)\n",
      "Requirement already satisfied: safetensors>=0.3.1 in c:\\users\\cathy metango\\tac\\tac_venv\\lib\\site-packages (from transformers) (0.4.0)\n",
      "Requirement already satisfied: tqdm>=4.27 in c:\\users\\cathy metango\\tac\\tac_venv\\lib\\site-packages (from transformers) (4.66.1)\n",
      "Requirement already satisfied: fsspec in c:\\users\\cathy metango\\tac\\tac_venv\\lib\\site-packages (from huggingface-hub<1.0,>=0.16.4->transformers) (2023.10.0)\n",
      "Requirement already satisfied: typing-extensions>=3.7.4.3 in c:\\users\\cathy metango\\tac\\tac_venv\\lib\\site-packages (from huggingface-hub<1.0,>=0.16.4->transformers) (4.8.0)\n",
      "Requirement already satisfied: colorama in c:\\users\\cathy metango\\tac\\tac_venv\\lib\\site-packages (from tqdm>=4.27->transformers) (0.4.6)\n",
      "Requirement already satisfied: charset-normalizer<4,>=2 in c:\\users\\cathy metango\\tac\\tac_venv\\lib\\site-packages (from requests->transformers) (3.3.0)\n",
      "Requirement already satisfied: idna<4,>=2.5 in c:\\users\\cathy metango\\tac\\tac_venv\\lib\\site-packages (from requests->transformers) (3.4)\n",
      "Requirement already satisfied: urllib3<3,>=1.21.1 in c:\\users\\cathy metango\\tac\\tac_venv\\lib\\site-packages (from requests->transformers) (2.0.6)\n",
      "Requirement already satisfied: certifi>=2017.4.17 in c:\\users\\cathy metango\\tac\\tac_venv\\lib\\site-packages (from requests->transformers) (2023.7.22)\n"
     ]
    }
   ],
   "source": [
    "!pip install tensorflow\n",
    "!pip install sentencepiece\n",
    "!pip install transformers\n",
    "\n",
    "from transformers import AutoTokenizer, TFAutoModelForSequenceClassification\n",
    "from transformers import pipeline"
   ]
  },
  {
   "cell_type": "markdown",
   "metadata": {},
   "source": [
    "### Chargement du modèle"
   ]
  },
  {
   "cell_type": "code",
   "execution_count": 19,
   "metadata": {},
   "outputs": [
    {
     "name": "stderr",
     "output_type": "stream",
     "text": [
      "All model checkpoint layers were used when initializing TFCamembertForSequenceClassification.\n",
      "\n",
      "All the layers of TFCamembertForSequenceClassification were initialized from the model checkpoint at tblard/tf-allocine.\n",
      "If your task is similar to the task the model of the checkpoint was trained on, you can already use TFCamembertForSequenceClassification for predictions without further training.\n"
     ]
    },
    {
     "name": "stdout",
     "output_type": "stream",
     "text": [
      "Phrase: Le notaire DE COOK adjugera, le jeudi 30 avril 1925, à Woluwe-Saint-Lambert, un lieu empreint de sérénité et d'histoire\n",
      "Sentiment: POSITIVE, Score: 0.84\n",
      "\n",
      "Phrase: Trois maisons avec jardin s'offrent, promettant un havre de paix à leurs futurs occupants\n",
      "Sentiment: NEGATIVE, Score: 0.56\n",
      "\n",
      "Phrase: La vente offre une opportunité rare de résider dans la commune prisée de Woluwé-Saint-Lambert\n",
      "Sentiment: POSITIVE, Score: 0.82\n",
      "\n",
      "Phrase: Ces propriétés avec jardin invitent à la rêverie et à la contemplation de la nature\n",
      "Sentiment: POSITIVE, Score: 0.94\n",
      "\n",
      "Phrase: Une maison de rentier, garantissant un investissement sûr et un rendement stable, est mise en lumière\n",
      "Sentiment: POSITIVE, Score: 0.82\n",
      "\n",
      "Phrase: L'annonce d'une belle maison de commerce avec annexe et jardin suscite enthousiasme et anticipation\n",
      "Sentiment: POSITIVE, Score: 0.86\n",
      "\n",
      "Phrase: La villa à vendre à Ostende promet une évasion côtière et des vues imprenables sur la mer\n",
      "Sentiment: POSITIVE, Score: 0.78\n",
      "\n",
      "Phrase: La mise à prix de la 'VILLA CORONA' est un appel à la détente au bord de la mer\n",
      "Sentiment: POSITIVE, Score: 0.55\n",
      "\n",
      "Phrase: Le charme indéniable de la propriété sise chemin du Vogelsang offre un cadre idyllique pour une vie harmonieuse\n",
      "Sentiment: POSITIVE, Score: 0.96\n",
      "\n",
      "Phrase: L'adjudication définitive d'une belle maison de rentier représente une occasion en or d'acquérir un bijou architectural\n",
      "Sentiment: POSITIVE, Score: 0.96\n",
      "\n"
     ]
    }
   ],
   "source": [
    "tokenizer = AutoTokenizer.from_pretrained(\"tblard/tf-allocine\", use_pt=True)\n",
    "model = TFAutoModelForSequenceClassification.from_pretrained(\"tblard/tf-allocine\")\n",
    "\n",
    "sentiment_analyser = pipeline('sentiment-analysis', model=model, tokenizer=tokenizer)\n",
    "\n"
   ]
  },
  {
   "cell_type": "markdown",
   "metadata": {},
   "source": [
    "### Analyser le sentiment sur nos phrases"
   ]
  },
  {
   "cell_type": "code",
   "execution_count": 21,
   "metadata": {},
   "outputs": [
    {
     "name": "stdout",
     "output_type": "stream",
     "text": [
      "Phrase: Le notaire DE COOK adjugera, le jeudi 30 avril 1925, à Woluwe-Saint-Lambert, un lieu empreint de sérénité et d'histoire\n",
      "Sentiment: POSITIVE, Score: 0.84\n",
      "\n",
      "Phrase: Trois maisons avec jardin s'offrent, promettant un havre de paix à leurs futurs occupants\n",
      "Sentiment: NEGATIVE, Score: 0.56\n",
      "\n",
      "Phrase: La vente offre une opportunité rare de résider dans la commune prisée de Woluwé-Saint-Lambert\n",
      "Sentiment: POSITIVE, Score: 0.82\n",
      "\n",
      "Phrase: Ces propriétés avec jardin invitent à la rêverie et à la contemplation de la nature\n",
      "Sentiment: POSITIVE, Score: 0.94\n",
      "\n",
      "Phrase: Une maison de rentier, garantissant un investissement sûr et un rendement stable, est mise en lumière\n",
      "Sentiment: POSITIVE, Score: 0.82\n",
      "\n",
      "Phrase: L'annonce d'une belle maison de commerce avec annexe et jardin suscite enthousiasme et anticipation\n",
      "Sentiment: POSITIVE, Score: 0.86\n",
      "\n",
      "Phrase: La villa à vendre à Ostende promet une évasion côtière et des vues imprenables sur la mer\n",
      "Sentiment: POSITIVE, Score: 0.78\n",
      "\n",
      "Phrase: La mise à prix de la 'VILLA CORONA' est un appel à la détente au bord de la mer\n",
      "Sentiment: POSITIVE, Score: 0.55\n",
      "\n",
      "Phrase: Le charme indéniable de la propriété sise chemin du Vogelsang offre un cadre idyllique pour une vie harmonieuse\n",
      "Sentiment: POSITIVE, Score: 0.96\n",
      "\n",
      "Phrase: L'adjudication définitive d'une belle maison de rentier représente une occasion en or d'acquérir un bijou architectural\n",
      "Sentiment: POSITIVE, Score: 0.96\n",
      "\n"
     ]
    }
   ],
   "source": [
    "#liste de mes phrases\n",
    "phrases = [\n",
    "    \"Le notaire DE COOK adjugera, le jeudi 30 avril 1925, à Woluwe-Saint-Lambert, un lieu empreint de sérénité et d'histoire\",\n",
    "    \"Trois maisons avec jardin s'offrent, promettant un havre de paix à leurs futurs occupants\",\n",
    "    \"La vente offre une opportunité rare de résider dans la commune prisée de Woluwé-Saint-Lambert\",\n",
    "   \"Ces propriétés avec jardin invitent à la rêverie et à la contemplation de la nature\",\n",
    "    \"Une maison de rentier, garantissant un investissement sûr et un rendement stable, est mise en lumière\",\n",
    "    \"L'annonce d'une belle maison de commerce avec annexe et jardin suscite enthousiasme et anticipation\",\n",
    "   \"La villa à vendre à Ostende promet une évasion côtière et des vues imprenables sur la mer\",\n",
    "    \"La mise à prix de la 'VILLA CORONA' est un appel à la détente au bord de la mer\",\n",
    "   \"Le charme indéniable de la propriété sise chemin du Vogelsang offre un cadre idyllique pour une vie harmonieuse\",\n",
    "    \"L'adjudication définitive d'une belle maison de rentier représente une occasion en or d'acquérir un bijou architectural\"\n",
    "]\n",
    "\n",
    "# Appliquer l'analyse de sentiment à chaque phrase\n",
    "for phrase in phrases:\n",
    "    sentiment = sentiment_analyser(phrase)[0]\n",
    "    print(f\"Phrase: {phrase}\\nSentiment: {sentiment['label']}, Score: {sentiment['score']:.2f}\\n\")"
   ]
  },
  {
   "cell_type": "code",
   "execution_count": null,
   "metadata": {},
   "outputs": [],
   "source": [
    "sentiment_analyser(\"Cette phrase est négative et je ne suis pas content !\")"
   ]
  }
 ],
 "metadata": {
  "kernelspec": {
   "display_name": "Python 3.10.5 ('tac_venv': venv)",
   "language": "python",
   "name": "python3"
  },
  "language_info": {
   "codemirror_mode": {
    "name": "ipython",
    "version": 3
   },
   "file_extension": ".py",
   "mimetype": "text/x-python",
   "name": "python",
   "nbconvert_exporter": "python",
   "pygments_lexer": "ipython3",
   "version": "3.11.6"
  },
  "vscode": {
   "interpreter": {
    "hash": "b1932ab1d169b4769d1550e799423b6477588e745f266d79d9004c136c81607e"
   }
  }
 },
 "nbformat": 4,
 "nbformat_minor": 4
}
