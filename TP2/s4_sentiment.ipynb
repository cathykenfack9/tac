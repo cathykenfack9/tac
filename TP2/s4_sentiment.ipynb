{
 "cells": [
  {
   "cell_type": "markdown",
   "metadata": {},
   "source": [
    "# Sentiment analysis \n",
    "\n",
    "## 1.  Avec Textblob-FR\n",
    "\n",
    "\n",
    "### Imports"
   ]
  },
  {
   "cell_type": "code",
   "execution_count": 12,
   "metadata": {},
   "outputs": [],
   "source": [
    "import sys\n",
    "from textblob import Blobber\n",
    "from textblob_fr import PatternTagger, PatternAnalyzer"
   ]
  },
  {
   "cell_type": "markdown",
   "metadata": {},
   "source": [
    "### Création d'une fonction `get_sentiment`"
   ]
  },
  {
   "cell_type": "code",
   "execution_count": 13,
   "metadata": {},
   "outputs": [],
   "source": [
    "tb = Blobber(pos_tagger=PatternTagger(), analyzer=PatternAnalyzer())\n",
    "\n",
    "def get_sentiment(input_text):\n",
    "    blob = tb(input_text)\n",
    "    polarity, subjectivity = blob.sentiment\n",
    "    polarity_perc = f\"{100*abs(polarity):.0f}\"\n",
    "    subjectivity_perc = f\"{100*subjectivity:.0f}\"\n",
    "    if polarity > 0:\n",
    "        polarity_str = f\"{polarity_perc}% positive\"\n",
    "    elif polarity < 0:\n",
    "        polarity_str = f\"{polarity_perc}% negative\"\n",
    "    else:\n",
    "        polarity_str = \"neutral\"\n",
    "    if subjectivity > 0:\n",
    "        subjectivity_str = f\"{subjectivity}% subjective\"\n",
    "    else:\n",
    "        subjectivity_str = \"perfectly objective\"\n",
    "    print(f\"This text is {polarity_str} and {subjectivity_str}.\")"
   ]
  },
  {
   "cell_type": "markdown",
   "metadata": {},
   "source": [
    "### Analyser le sentiment de 10 phrases de notre extrait "
   ]
  },
  {
   "cell_type": "code",
   "execution_count": null,
   "metadata": {
    "tags": []
   },
   "outputs": [],
   "source": [
    "phrases = [\n",
    "    \"Le notaire DE COOK adjugera, le jeudi 30 avril 1925, à Woluwe-Saint-Lambert, un lieu empreint de sérénité et d'histoire\",\n",
    "    \"Trois maisons avec jardin s'offrent, promettant un havre de paix à leurs futurs occupants\",\n",
    "    \"La vente offre une opportunité rare de résider dans la commune prisée de Woluwé-Saint-Lambert\",\n",
    "   \"Ces propriétés avec jardin invitent à la rêverie et à la contemplation de la nature\",\n",
    "    \"Une maison de rentier, garantissant un investissement sûr et un rendement stable, est mise en lumière\",\n",
    "    \"L'annonce d'une belle maison de commerce avec annexe et jardin suscite enthousiasme et anticipation\",\n",
    "   \"La villa à vendre à Ostende promet une évasion côtière et des vues imprenables sur la mer\",\n",
    "    \"La mise à prix de la 'VILLA CORONA' est un appel à la détente au bord de la mer\",\n",
    "   \"Le charme indéniable de la propriété sise chemin du Vogelsang offre un cadre idyllique pour une vie harmonieuse\",\n",
    "    \"L'adjudication définitive d'une belle maison de rentier représente une occasion en or d'acquérir un bijou architectural\"\n",
    "]\n",
    "\n",
    "# Appliquer la fonction get_sentiment à chaque phrase et imprimer les résultats\n",
    "for phrase in phrases:\n",
    "    sentiment_result = get_sentiment(phrase)\n",
    "    print(f\"Phrase: {phrase}\\nSentiment: {sentiment_result}\\n\")"
   ]
  },
  {
   "cell_type": "code",
   "execution_count": null,
   "metadata": {
    "tags": []
   },
   "outputs": [],
   "source": [
    "from textblob import TextBlob\n",
    "from textblob_fr import PatternTagger, PatternAnalyzer\n",
    "\n",
    "# Création du tableau de résultats\n",
    "results = []\n",
    "\n",
    "for phrase in phrases:\n",
    "    blob = TextBlob(phrase, pos_tagger=PatternTagger(), analyzer=PatternAnalyzer())\n",
    "    sentiment = blob.sentiment\n",
    "    results.append({\n",
    "        'Phrase': phrase,\n",
    "        'Polarité': sentiment[0],\n",
    "        'Subjectivité': sentiment[1]\n",
    "    })\n",
    "\n",
    "\n",
    "\n",
    "# Affichage des résultats\n",
    "for result in results:\n",
    "    print(f\"Phrase: {result['Phrase']}, Polarité: {result['Polarité']}, Subjectivité: {result['Subjectivité']}\")"
   ]
  },
  {
   "cell_type": "markdown",
   "metadata": {},
   "source": [
    "## 2. Utilisation de transformers\n",
    "\n",
    "\n",
    "### Installation des librairies et imports"
   ]
  },
  {
   "cell_type": "code",
   "execution_count": null,
   "metadata": {},
   "outputs": [],
   "source": [
    "!pip install tensorflow\n",
    "!pip install sentencepiece\n",
    "!pip install transformers\n",
    "\n",
    "from transformers import AutoTokenizer, TFAutoModelForSequenceClassification\n",
    "from transformers import pipeline"
   ]
  },
  {
   "cell_type": "markdown",
   "metadata": {},
   "source": [
    "### Chargement du modèle"
   ]
  },
  {
   "cell_type": "code",
   "execution_count": null,
   "metadata": {},
   "outputs": [],
   "source": [
    "tokenizer = AutoTokenizer.from_pretrained(\"tblard/tf-allocine\", use_pt=True)\n",
    "model = TFAutoModelForSequenceClassification.from_pretrained(\"tblard/tf-allocine\")\n",
    "\n",
    "sentiment_analyser = pipeline('sentiment-analysis', model=model, tokenizer=tokenizer)\n",
    "\n"
   ]
  },
  {
   "cell_type": "markdown",
   "metadata": {},
   "source": [
    "### Analyser le sentiment sur nos phrases"
   ]
  },
  {
   "cell_type": "code",
   "execution_count": null,
   "metadata": {},
   "outputs": [],
   "source": [
    "#liste de mes phrases\n",
    "phrases = [\n",
    "    \"Le notaire DE COOK adjugera, le jeudi 30 avril 1925, à Woluwe-Saint-Lambert, un lieu empreint de sérénité et d'histoire\",\n",
    "    \"Trois maisons avec jardin s'offrent, promettant un havre de paix à leurs futurs occupants\",\n",
    "    \"La vente offre une opportunité rare de résider dans la commune prisée de Woluwé-Saint-Lambert\",\n",
    "   \"Ces propriétés avec jardin invitent à la rêverie et à la contemplation de la nature\",\n",
    "    \"Une maison de rentier, garantissant un investissement sûr et un rendement stable, est mise en lumière\",\n",
    "    \"L'annonce d'une belle maison de commerce avec annexe et jardin suscite enthousiasme et anticipation\",\n",
    "   \"La villa à vendre à Ostende promet une évasion côtière et des vues imprenables sur la mer\",\n",
    "    \"La mise à prix de la 'VILLA CORONA' est un appel à la détente au bord de la mer\",\n",
    "   \"Le charme indéniable de la propriété sise chemin du Vogelsang offre un cadre idyllique pour une vie harmonieuse\",\n",
    "    \"L'adjudication définitive d'une belle maison de rentier représente une occasion en or d'acquérir un bijou architectural\"\n",
    "]\n",
    "\n",
    "# Appliquer l'analyse de sentiment à chaque phrase\n",
    "for phrase in phrases:\n",
    "    sentiment = sentiment_analyser(phrase)[0]\n",
    "    print(f\"Phrase: {phrase}\\nSentiment: {sentiment['label']}, Score: {sentiment['score']:.2f}\\n\")"
   ]
  }
 ],
 "metadata": {
  "kernelspec": {
   "display_name": "Python 3.10.5 ('tac_venv': venv)",
   "language": "python",
   "name": "python3"
  },
  "language_info": {
   "codemirror_mode": {
    "name": "ipython",
    "version": 3
   },
   "file_extension": ".py",
   "mimetype": "text/x-python",
   "name": "python",
   "nbconvert_exporter": "python",
   "pygments_lexer": "ipython3",
   "version": "3.11.6"
  },
  "vscode": {
   "interpreter": {
    "hash": "b1932ab1d169b4769d1550e799423b6477588e745f266d79d9004c136c81607e"
   }
  }
 },
 "nbformat": 4,
 "nbformat_minor": 4
}
